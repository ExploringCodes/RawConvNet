{
  "metadata": {
    "kernelspec": {
      "display_name": "Python 3",
      "name": "python3"
    },
    "language_info": {
      "name": "python",
      "version": "3.10.14",
      "mimetype": "text/x-python",
      "codemirror_mode": {
        "name": "ipython",
        "version": 3
      },
      "pygments_lexer": "ipython3",
      "nbconvert_exporter": "python",
      "file_extension": ".py"
    },
    "kaggle": {
      "accelerator": "none",
      "dataSources": [
        {
          "sourceId": 9048789,
          "sourceType": "datasetVersion",
          "datasetId": 5455684
        }
      ],
      "dockerImageVersionId": 30776,
      "isInternetEnabled": true,
      "language": "python",
      "sourceType": "notebook",
      "isGpuEnabled": false
    },
    "colab": {
      "provenance": [],
      "gpuType": "T4"
    },
    "accelerator": "GPU"
  },
  "nbformat_minor": 0,
  "nbformat": 4,
  "cells": [
    {
      "cell_type": "code",
      "source": [
        "import torch\n",
        "from torch import nn\n",
        "import random\n",
        "from torch import nn\n",
        "from torch.utils.data import Dataset,DataLoader\n",
        "from sklearn.metrics import accuracy_score,confusion_matrix\n",
        "import numpy as np\n",
        "import sys\n",
        "import torch.nn.functional as F\n",
        "import copy\n",
        "import pathlib\n",
        "from pathlib import Path\n",
        "import os\n"
      ],
      "metadata": {
        "execution": {
          "iopub.status.busy": "2024-10-03T05:26:10.095220Z",
          "iopub.execute_input": "2024-10-03T05:26:10.095639Z",
          "iopub.status.idle": "2024-10-03T05:26:14.254770Z",
          "shell.execute_reply.started": "2024-10-03T05:26:10.095600Z",
          "shell.execute_reply": "2024-10-03T05:26:14.253640Z"
        },
        "trusted": true,
        "id": "nspEU-9Yi_Pm"
      },
      "execution_count": null,
      "outputs": []
    },
    {
      "cell_type": "code",
      "source": [
        "import torch\n",
        "import numpy as np\n",
        "import random\n",
        "\n",
        "# Function to set seed for all libraries\n",
        "def set_seed(seed=0):\n",
        "    # Set the seed for NumPy\n",
        "    np.random.seed(seed)\n",
        "\n",
        "    # Set the seed for random library\n",
        "    random.seed(seed)\n",
        "\n",
        "    # Set the seed for PyTorch\n",
        "    torch.manual_seed(seed)\n",
        "\n",
        "    # If you're using GPU, also set the seed for CUDA\n",
        "    if torch.cuda.is_available():\n",
        "        torch.cuda.manual_seed(seed)\n",
        "        torch.cuda.manual_seed_all(seed)  # for multi-GPU systems\n",
        "\n",
        "    # To ensure that PyTorch's deterministic behavior is maintained\n",
        "    torch.backends.cudnn.deterministic = True\n",
        "    torch.backends.cudnn.benchmark = False\n",
        "\n",
        "# Apply the seed at the beginning of your script\n",
        "set_seed(0)\n",
        "\n",
        "# Continue with your model training, dataset loading, etc.\n"
      ],
      "metadata": {
        "execution": {
          "iopub.status.busy": "2024-10-02T17:30:20.833689Z",
          "iopub.execute_input": "2024-10-02T17:30:20.834505Z",
          "iopub.status.idle": "2024-10-02T17:30:20.878731Z",
          "shell.execute_reply.started": "2024-10-02T17:30:20.834456Z",
          "shell.execute_reply": "2024-10-02T17:30:20.877929Z"
        },
        "trusted": true,
        "id": "OELH20TDi_Pq"
      },
      "execution_count": null,
      "outputs": []
    },
    {
      "cell_type": "code",
      "source": [
        "np.__version__"
      ],
      "metadata": {
        "execution": {
          "iopub.status.busy": "2024-10-02T17:30:20.880015Z",
          "iopub.execute_input": "2024-10-02T17:30:20.880401Z",
          "iopub.status.idle": "2024-10-02T17:30:20.887623Z",
          "shell.execute_reply.started": "2024-10-02T17:30:20.880355Z",
          "shell.execute_reply": "2024-10-02T17:30:20.886857Z"
        },
        "trusted": true,
        "colab": {
          "base_uri": "https://localhost:8080/",
          "height": 35
        },
        "id": "uSGg7N0Bi_Ps",
        "outputId": "3c1819a0-2221-40e6-92c1-efcf048ac9fc"
      },
      "execution_count": null,
      "outputs": [
        {
          "output_type": "execute_result",
          "data": {
            "text/plain": [
              "'1.26.4'"
            ],
            "application/vnd.google.colaboratory.intrinsic+json": {
              "type": "string"
            }
          },
          "metadata": {},
          "execution_count": 4
        }
      ]
    },
    {
      "cell_type": "code",
      "source": [
        "device=\"cuda\" if torch.cuda.is_available() else \"cpu\"\n",
        "device"
      ],
      "metadata": {
        "execution": {
          "iopub.status.busy": "2024-10-02T17:30:20.890352Z",
          "iopub.execute_input": "2024-10-02T17:30:20.890995Z",
          "iopub.status.idle": "2024-10-02T17:30:20.897278Z",
          "shell.execute_reply.started": "2024-10-02T17:30:20.890931Z",
          "shell.execute_reply": "2024-10-02T17:30:20.896329Z"
        },
        "trusted": true,
        "colab": {
          "base_uri": "https://localhost:8080/",
          "height": 35
        },
        "id": "jbBGhxIbi_Pt",
        "outputId": "e668bb1b-4c04-42a5-93f7-c06fd2ee6b94"
      },
      "execution_count": null,
      "outputs": [
        {
          "output_type": "execute_result",
          "data": {
            "text/plain": [
              "'cuda'"
            ],
            "application/vnd.google.colaboratory.intrinsic+json": {
              "type": "string"
            }
          },
          "metadata": {},
          "execution_count": 5
        }
      ]
    },
    {
      "cell_type": "code",
      "source": [
        "Path.cwd()"
      ],
      "metadata": {
        "execution": {
          "iopub.status.busy": "2024-10-02T17:30:20.898326Z",
          "iopub.execute_input": "2024-10-02T17:30:20.898599Z",
          "iopub.status.idle": "2024-10-02T17:30:20.909093Z",
          "shell.execute_reply.started": "2024-10-02T17:30:20.898569Z",
          "shell.execute_reply": "2024-10-02T17:30:20.908263Z"
        },
        "trusted": true,
        "colab": {
          "base_uri": "https://localhost:8080/"
        },
        "id": "lvsU97Ski_Pu",
        "outputId": "5518afd2-905f-4214-a71d-4af5e57db76e"
      },
      "execution_count": null,
      "outputs": [
        {
          "output_type": "execute_result",
          "data": {
            "text/plain": [
              "PosixPath('/content')"
            ]
          },
          "metadata": {},
          "execution_count": 6
        }
      ]
    },
    {
      "cell_type": "code",
      "source": [
        "save_path=Path.cwd()/\"result.txt\"\n",
        "\n",
        "if save_path.is_dir():\n",
        "    os.remove(save_path)\n",
        "\n"
      ],
      "metadata": {
        "execution": {
          "iopub.status.busy": "2024-10-02T17:30:20.910126Z",
          "iopub.execute_input": "2024-10-02T17:30:20.910404Z",
          "iopub.status.idle": "2024-10-02T17:30:20.918480Z",
          "shell.execute_reply.started": "2024-10-02T17:30:20.910368Z",
          "shell.execute_reply": "2024-10-02T17:30:20.917618Z"
        },
        "trusted": true,
        "id": "lG5w4X3ji_Pu"
      },
      "execution_count": null,
      "outputs": []
    },
    {
      "cell_type": "code",
      "source": [
        "import scipy.signal as signal\n",
        "import scipy.io as io"
      ],
      "metadata": {
        "execution": {
          "iopub.status.busy": "2024-10-02T17:30:20.919581Z",
          "iopub.execute_input": "2024-10-02T17:30:20.920199Z",
          "iopub.status.idle": "2024-10-02T17:30:21.027125Z",
          "shell.execute_reply.started": "2024-10-02T17:30:20.920166Z",
          "shell.execute_reply": "2024-10-02T17:30:21.026239Z"
        },
        "trusted": true,
        "id": "BKXkiTHZi_Pv"
      },
      "execution_count": null,
      "outputs": []
    },
    {
      "cell_type": "code",
      "source": [
        "import pathlib\n",
        "from pathlib import Path"
      ],
      "metadata": {
        "execution": {
          "iopub.status.busy": "2024-10-02T17:30:21.028431Z",
          "iopub.execute_input": "2024-10-02T17:30:21.028950Z",
          "iopub.status.idle": "2024-10-02T17:30:21.033387Z",
          "shell.execute_reply.started": "2024-10-02T17:30:21.028905Z",
          "shell.execute_reply": "2024-10-02T17:30:21.032407Z"
        },
        "trusted": true,
        "id": "UdrmBYHHi_Pw"
      },
      "execution_count": null,
      "outputs": []
    },
    {
      "cell_type": "code",
      "source": [
        "device=\"cuda\" if torch.cuda.is_available() else \"cpu\"\n",
        "device"
      ],
      "metadata": {
        "execution": {
          "iopub.status.busy": "2024-10-02T17:30:21.034737Z",
          "iopub.execute_input": "2024-10-02T17:30:21.035665Z",
          "iopub.status.idle": "2024-10-02T17:30:21.045777Z",
          "shell.execute_reply.started": "2024-10-02T17:30:21.035619Z",
          "shell.execute_reply": "2024-10-02T17:30:21.044899Z"
        },
        "trusted": true,
        "colab": {
          "base_uri": "https://localhost:8080/",
          "height": 35
        },
        "id": "mdE-koS_i_Pw",
        "outputId": "b2258669-d03d-474f-f33e-4a6a0cd9be84"
      },
      "execution_count": null,
      "outputs": [
        {
          "output_type": "execute_result",
          "data": {
            "text/plain": [
              "'cuda'"
            ],
            "application/vnd.google.colaboratory.intrinsic+json": {
              "type": "string"
            }
          },
          "metadata": {},
          "execution_count": 10
        }
      ]
    },
    {
      "cell_type": "code",
      "source": [
        "\n",
        "\n",
        "class LightweightConv1d(nn.Module):\n",
        "    \"\"\"\n",
        "    Args:\n",
        "        input_size: # of channels of the input and output\n",
        "        kernel_size: convolution channels\n",
        "        padding: padding\n",
        "        num_heads: number of heads used. The weight is of shape\n",
        "            `(num_heads, 1, kernel_size)`\n",
        "        weight_softmax: normalize the weight with softmax before the convolution\n",
        "    Shape:\n",
        "        Input: BxCxT, i.e. (batch_size, input_size, timesteps)\n",
        "        Output: BxCxT, i.e. (batch_size, input_size, timesteps)\n",
        "    Attributes:\n",
        "        weight: the learnable weights of the module of shape\n",
        "            `(num_heads, 1, kernel_size)`\n",
        "        bias: the learnable bias of the module of shape `(input_size)`\n",
        "    \"\"\"\n",
        "    def __init__(self, input_size, kernel_size=1, padding=0, num_heads=1, weight_softmax=False,\n",
        "                 bias=False,dilation=1):\n",
        "        super().__init__()\n",
        "        self.input_size = input_size\n",
        "        self.kernel_size = kernel_size\n",
        "        self.num_heads = num_heads\n",
        "        self.padding = padding\n",
        "        self.weight_softmax = weight_softmax\n",
        "        self.weight = nn.Parameter(torch.Tensor(num_heads, 1, kernel_size))\n",
        "        self.dilation=dilation\n",
        "        if bias:\n",
        "            self.bias = nn.Parameter(torch.Tensor(input_size))\n",
        "        else:\n",
        "            self.bias = None\n",
        "\n",
        "        self.init_parameters()\n",
        "\n",
        "    def init_parameters(self):\n",
        "        nn.init.xavier_uniform_(self.weight)\n",
        "        if self.bias is not None:\n",
        "            nn.init.constant_(self.bias, 0.0)\n",
        "\n",
        "    def forward(self, input):\n",
        "        B, C, T = input.size()\n",
        "        H = self.num_heads\n",
        "\n",
        "        weight = self.weight\n",
        "        if self.weight_softmax:\n",
        "            weight = F.softmax(weight, dim=-1)\n",
        "\n",
        "        input = input.view(-1, H, T)\n",
        "        output = F.conv1d(input, weight,dilation=self.dilation, padding=self.padding, groups=self.num_heads)\n",
        "        output = output.view(B, C, -1)\n",
        "        if self.bias is not None:\n",
        "            output = output + self.bias.view(1, -1, 1)\n",
        "\n",
        "        return output\n",
        "\n",
        "\n",
        "\n",
        "\n",
        "\n",
        "\n",
        "class RawConvNet(nn.Module):\n",
        "    def __init__(self, num_classes=4, num_samples=1000, num_channels=22, num_bands=9, embed_dim=32,\n",
        "                 win_len=250, num_heads=4, weight_softmax=True, bias=False):\n",
        "        super().__init__()\n",
        "        self.win_len=win_len\n",
        "        self.temporal_filter=nn.Conv2d(1,num_bands,kernel_size=(1,64),padding='same')\n",
        "        self.spacial_block=nn.Sequential(\n",
        "            nn.Conv2d(in_channels=num_bands,out_channels=embed_dim,kernel_size=(22,1)),\n",
        "            nn.BatchNorm2d(embed_dim),\n",
        "            nn.ELU())\n",
        "\n",
        "        self.conv = LightweightConv1d(input_size=embed_dim, kernel_size= (num_samples//win_len), num_heads=num_heads,\n",
        "                                     weight_softmax=weight_softmax, bias=bias,dilation=1\n",
        "                                                             )\n",
        "        self.classify = nn.Linear(embed_dim, num_classes)\n",
        "    def forward(self,x):\n",
        "        out=x.unsqueeze(dim=1)\n",
        "        out=self.temporal_filter(out)\n",
        "        out = self.spacial_block(out)\n",
        "        out = out.reshape([*out.shape[0:2], -1, self.win_len])\n",
        "      #  print(out.shape)\n",
        "        out = torch.log(torch.clamp(out.var(dim=3),1e-6,1e6))\n",
        "      #  out = torch.clamp(out.var(dim=3),1e-6,1e6)\n",
        "        out = self.conv(out)\n",
        "        out = out.view(out.size(0), -1)\n",
        "        out = self.classify(out)\n",
        "\n",
        "        return out"
      ],
      "metadata": {
        "execution": {
          "iopub.status.busy": "2024-10-02T20:59:09.193388Z",
          "iopub.execute_input": "2024-10-02T20:59:09.194216Z",
          "iopub.status.idle": "2024-10-02T20:59:09.212467Z",
          "shell.execute_reply.started": "2024-10-02T20:59:09.194175Z",
          "shell.execute_reply": "2024-10-02T20:59:09.211473Z"
        },
        "trusted": true,
        "id": "FWmmcOMyi_Px"
      },
      "execution_count": null,
      "outputs": []
    },
    {
      "cell_type": "code",
      "source": [
        "#"
      ],
      "metadata": {
        "execution": {
          "iopub.status.busy": "2024-10-02T20:59:09.759175Z",
          "iopub.execute_input": "2024-10-02T20:59:09.759504Z",
          "iopub.status.idle": "2024-10-02T20:59:09.763356Z",
          "shell.execute_reply.started": "2024-10-02T20:59:09.759470Z",
          "shell.execute_reply": "2024-10-02T20:59:09.762407Z"
        },
        "trusted": true,
        "id": "hix0Ygdci_Px"
      },
      "execution_count": null,
      "outputs": []
    },
    {
      "cell_type": "code",
      "source": [],
      "metadata": {
        "id": "VwEP6c_9i_Py"
      },
      "execution_count": null,
      "outputs": []
    },
    {
      "cell_type": "code",
      "source": [],
      "metadata": {
        "id": "jTTblUavi_Pz"
      },
      "execution_count": null,
      "outputs": []
    },
    {
      "cell_type": "code",
      "source": [
        "from torch.utils.data import Dataset\n",
        "\n",
        "class eegDataset(Dataset):\n",
        "    def __init__(self, data, label, transform=None):\n",
        "        super().__init__()\n",
        "        self.data = data\n",
        "        self.labels = label\n",
        "        self.transform = transform\n",
        "\n",
        "    def __getitem__(self, index):\n",
        "        if self.transform is None:\n",
        "            data = self.data[index]\n",
        "        else:\n",
        "            data = self.transform(self.data[index])\n",
        "\n",
        "        label = self.labels[index]\n",
        "\n",
        "        return data, label\n",
        "\n",
        "    def __len__(self):\n",
        "        return len(self.data)\n",
        "\n",
        "    def combineDataset(self, otherDataset):\n",
        "        self.labels = np.hstack((self.labels, otherDataset.labels))\n",
        "        self.data = np.concatenate((self.data, otherDataset.data), axis=0)"
      ],
      "metadata": {
        "execution": {
          "iopub.status.busy": "2024-10-02T20:59:10.849284Z",
          "iopub.execute_input": "2024-10-02T20:59:10.849599Z",
          "iopub.status.idle": "2024-10-02T20:59:10.857388Z",
          "shell.execute_reply.started": "2024-10-02T20:59:10.849567Z",
          "shell.execute_reply": "2024-10-02T20:59:10.856365Z"
        },
        "trusted": true,
        "id": "8ANvTJQwi_Pz"
      },
      "execution_count": null,
      "outputs": []
    },
    {
      "cell_type": "code",
      "source": [
        "def shuffle_data(data, label):\n",
        "    print(data.shape)\n",
        "    index = [i for i in range(len(data))]\n",
        "    random.shuffle(index)\n",
        "    shuffle_data = data[index]\n",
        "    shuffle_label = label[index]\n",
        "    return shuffle_data, shuffle_label"
      ],
      "metadata": {
        "execution": {
          "iopub.status.busy": "2024-10-02T20:59:11.198516Z",
          "iopub.execute_input": "2024-10-02T20:59:11.198836Z",
          "iopub.status.idle": "2024-10-02T20:59:11.204014Z",
          "shell.execute_reply.started": "2024-10-02T20:59:11.198804Z",
          "shell.execute_reply": "2024-10-02T20:59:11.203019Z"
        },
        "trusted": true,
        "id": "VuR_JFiti_P0"
      },
      "execution_count": null,
      "outputs": []
    },
    {
      "cell_type": "code",
      "source": [
        "from sklearn.model_selection import StratifiedKFold\n",
        "\n",
        "def generateBalancedFolds(idx, label, kFold=10):\n",
        "    folds = []\n",
        "    skf = StratifiedKFold(n_splits=kFold)\n",
        "    for train_index, test_index in skf.split(idx, label):\n",
        "        folds.append([idx[i] for i in test_index])\n",
        "    return folds"
      ],
      "metadata": {
        "execution": {
          "iopub.status.busy": "2024-10-02T20:59:11.577823Z",
          "iopub.execute_input": "2024-10-02T20:59:11.578135Z",
          "iopub.status.idle": "2024-10-02T20:59:11.583591Z",
          "shell.execute_reply.started": "2024-10-02T20:59:11.578103Z",
          "shell.execute_reply": "2024-10-02T20:59:11.582632Z"
        },
        "trusted": true,
        "id": "19lANJ1ui_P1"
      },
      "execution_count": null,
      "outputs": []
    },
    {
      "cell_type": "code",
      "source": [
        "\n",
        "    # Set the random seed for reproducibility\n",
        "    def set_seed(seed):\n",
        "        random.seed(seed)  # Python's built-in random module\n",
        "        np.random.seed(seed)  # Numpy random seed\n",
        "        torch.manual_seed(seed)  # Set seed for CPU\n",
        "        if torch.cuda.is_available():\n",
        "            torch.cuda.manual_seed_all(seed)  # Set seed for all GPUs\n",
        "\n",
        "    # Set seed for reproducibility\n",
        "    set_seed(0)\n",
        "\n",
        "\n",
        "\n",
        "\n",
        "\n",
        "\n",
        "\n",
        "\n",
        "\n",
        "\n",
        "\n",
        "    lr = 0.001\n",
        "    lrFactor = 0.6\n",
        "    lrPatience = 20\n",
        "    lrMin = 0.0001\n",
        "\n",
        "\n",
        "\n",
        "\n",
        "\n",
        "\n",
        "    # Define network parameters\n",
        "    num_classes = 4\n",
        "    num_samples = 1000\n",
        "    num_channels = 22\n",
        "    num_bands = 9\n",
        "    embed_dim = 64\n",
        "    win_len = 20\n",
        "    num_heads = 64\n",
        "    weight_softmax = True\n",
        "    bias = False\n",
        "\n",
        "    mymodel = RawConvNet(num_classes=num_classes,\n",
        "        num_samples=num_samples,\n",
        "        num_channels=num_channels,\n",
        "        num_bands=num_bands,\n",
        "        embed_dim=embed_dim,\n",
        "        win_len=win_len,\n",
        "        num_heads=num_heads,\n",
        "        weight_softmax=weight_softmax,\n",
        "        bias=bias).to(device)\n",
        "\n",
        "    loss_fn = nn.CrossEntropyLoss()"
      ],
      "metadata": {
        "execution": {
          "iopub.status.busy": "2024-10-02T20:59:33.047105Z",
          "iopub.execute_input": "2024-10-02T20:59:33.047912Z",
          "iopub.status.idle": "2024-10-02T20:59:33.058491Z",
          "shell.execute_reply.started": "2024-10-02T20:59:33.047871Z",
          "shell.execute_reply": "2024-10-02T20:59:33.057695Z"
        },
        "trusted": true,
        "id": "UavUaL0hi_P1"
      },
      "execution_count": null,
      "outputs": []
    },
    {
      "cell_type": "code",
      "source": [
        "x_check=torch.randn(19,22,1000).to(device)\n",
        "mymodel(x_check).shape"
      ],
      "metadata": {
        "execution": {
          "iopub.status.busy": "2024-10-02T20:59:33.409586Z",
          "iopub.execute_input": "2024-10-02T20:59:33.409880Z",
          "iopub.status.idle": "2024-10-02T20:59:33.421442Z",
          "shell.execute_reply.started": "2024-10-02T20:59:33.409849Z",
          "shell.execute_reply": "2024-10-02T20:59:33.420389Z"
        },
        "trusted": true,
        "colab": {
          "base_uri": "https://localhost:8080/"
        },
        "id": "RR1p5a8Mi_P2",
        "outputId": "abdca10f-b4c2-4d4c-b2e8-ce413041b94c"
      },
      "execution_count": null,
      "outputs": [
        {
          "output_type": "stream",
          "name": "stderr",
          "text": [
            "/usr/local/lib/python3.10/dist-packages/torch/nn/modules/conv.py:454: UserWarning: Using padding='same' with even kernel lengths and odd dilation may require a zero-padded copy of the input be created (Triggered internally at ../aten/src/ATen/native/Convolution.cpp:1031.)\n",
            "  return F.conv2d(input, weight, bias, self.stride,\n"
          ]
        },
        {
          "output_type": "execute_result",
          "data": {
            "text/plain": [
              "torch.Size([19, 4])"
            ]
          },
          "metadata": {},
          "execution_count": 17
        }
      ]
    },
    {
      "cell_type": "markdown",
      "source": [],
      "metadata": {
        "id": "kU_YcZcli_P2"
      }
    },
    {
      "cell_type": "code",
      "source": [
        "def train_step(mymodelstuff):\n",
        "\n",
        "    model,dataloader,loss_fn,optimizer,scheduler,device=mymodelstuff[\"model\"],mymodelstuff['train_dataloader'],mymodelstuff['loss_fn'],mymodelstuff['optimizer'],mymodelstuff['scheduler'],mymodelstuff['device']\n",
        "\n",
        "    model.train()\n",
        "\n",
        "    train_loss=0\n",
        "    train_accuracy=0\n",
        "\n",
        "    for X,y in dataloader:\n",
        "        X,y=X.to(device),y.to(device)\n",
        "\n",
        "        y_pred=model(X)\n",
        "        loss=loss_fn(y_pred,y)\n",
        "\n",
        "        train_loss=loss+train_loss\n",
        "        train_accuracy=train_accuracy+accuracy_score(y.to('cpu'),y_pred.argmax(1).to('cpu'))\n",
        "\n",
        "        optimizer.zero_grad()\n",
        "        loss.backward()\n",
        "        optimizer.step()\n",
        "\n",
        "    train_loss=train_loss/len(dataloader)\n",
        "    train_accuracy=train_accuracy/len(dataloader)\n",
        "    return train_loss,train_accuracy"
      ],
      "metadata": {
        "execution": {
          "iopub.status.busy": "2024-10-02T20:59:34.188700Z",
          "iopub.execute_input": "2024-10-02T20:59:34.189426Z",
          "iopub.status.idle": "2024-10-02T20:59:34.196506Z",
          "shell.execute_reply.started": "2024-10-02T20:59:34.189383Z",
          "shell.execute_reply": "2024-10-02T20:59:34.195542Z"
        },
        "trusted": true,
        "id": "raOCf2q5i_P3"
      },
      "execution_count": null,
      "outputs": []
    },
    {
      "cell_type": "code",
      "source": [
        "torch.zeros(4,4)"
      ],
      "metadata": {
        "execution": {
          "iopub.status.busy": "2024-10-02T20:59:34.553756Z",
          "iopub.execute_input": "2024-10-02T20:59:34.554072Z",
          "iopub.status.idle": "2024-10-02T20:59:34.561661Z",
          "shell.execute_reply.started": "2024-10-02T20:59:34.554039Z",
          "shell.execute_reply": "2024-10-02T20:59:34.560781Z"
        },
        "trusted": true,
        "colab": {
          "base_uri": "https://localhost:8080/"
        },
        "id": "xJfd4275i_P3",
        "outputId": "44c678b7-16fb-41fd-963a-3a9a5bfcd28b"
      },
      "execution_count": null,
      "outputs": [
        {
          "output_type": "execute_result",
          "data": {
            "text/plain": [
              "tensor([[0., 0., 0., 0.],\n",
              "        [0., 0., 0., 0.],\n",
              "        [0., 0., 0., 0.],\n",
              "        [0., 0., 0., 0.]])"
            ]
          },
          "metadata": {},
          "execution_count": 19
        }
      ]
    },
    {
      "cell_type": "code",
      "source": [
        "def test_step(mymodelstuff):\n",
        "\n",
        "    model,loss_fn,device,dataloader=mymodelstuff[\"model\"],mymodelstuff['loss_fn'],mymodelstuff['device'],mymodelstuff['test_dataloader']\n",
        "\n",
        "    model.eval()\n",
        "    model.to(mymodelstuff[\"device\"])\n",
        "\n",
        "    confusion_matrix_result=torch.zeros(4,4)\n",
        "    test_loss=0\n",
        "    test_accuracy = 0\n",
        "    confustion_matrx=torch.zeros(4,4)\n",
        "\n",
        "    with torch.inference_mode():\n",
        "\n",
        "        for X,y in dataloader:\n",
        "            X,y=X.to(device),y.to(device)\n",
        "\n",
        "            y_pred=model(X)\n",
        "\n",
        "            loss=loss_fn(y_pred,y)\n",
        "\n",
        "            test_loss=loss+test_loss\n",
        "            test_accuracy=test_accuracy+accuracy_score(y.to('cpu'),y_pred.argmax(1).to('cpu'))\n",
        "            confusion_matrix_result=confusion_matrix_result+confusion_matrix(y.to('cpu'),y_pred.argmax(1).to('cpu'))\n",
        "\n",
        "    test_loss=test_loss/len(dataloader)\n",
        "    test_accuracy=test_accuracy/len(dataloader)\n",
        "\n",
        "    print(f\"\\n after training test accuracy is {test_accuracy}\")\n",
        "    return test_loss,test_accuracy,confusion_matrix"
      ],
      "metadata": {
        "execution": {
          "iopub.status.busy": "2024-10-02T20:59:34.870662Z",
          "iopub.execute_input": "2024-10-02T20:59:34.871299Z",
          "iopub.status.idle": "2024-10-02T20:59:34.879204Z",
          "shell.execute_reply.started": "2024-10-02T20:59:34.871263Z",
          "shell.execute_reply": "2024-10-02T20:59:34.878237Z"
        },
        "trusted": true,
        "id": "YDD06YSDi_P4"
      },
      "execution_count": null,
      "outputs": []
    },
    {
      "cell_type": "code",
      "source": [],
      "metadata": {
        "id": "P-qFs4l1i_P4"
      },
      "execution_count": null,
      "outputs": []
    },
    {
      "cell_type": "code",
      "source": [
        "def valid_step(mymodelstuff):\n",
        "\n",
        "    model,loss_fn,device,dataloader=mymodelstuff[\"model\"],mymodelstuff['loss_fn'],mymodelstuff['device'],mymodelstuff['valid_dataloader']\n",
        "    model.eval()\n",
        "\n",
        "\n",
        "    valid_loss=0\n",
        "    valid_accuracy = 0\n",
        "\n",
        "    with torch.inference_mode():\n",
        "\n",
        "        for X,y in dataloader:\n",
        "            X,y=X.to(device),y.to(device)\n",
        "\n",
        "            y_pred=model(X)\n",
        "\n",
        "            loss=loss_fn(y_pred,y)\n",
        "\n",
        "            valid_loss=loss+valid_loss\n",
        "            valid_accuracy=valid_accuracy+accuracy_score(y.to('cpu'),y_pred.argmax(1).to('cpu'))\n",
        "\n",
        "    valid_loss=valid_loss/len(dataloader)\n",
        "    valid_accuracy=valid_accuracy/len(dataloader)\n",
        "    return valid_loss,valid_accuracy"
      ],
      "metadata": {
        "execution": {
          "iopub.status.busy": "2024-10-02T20:59:35.566627Z",
          "iopub.execute_input": "2024-10-02T20:59:35.567343Z",
          "iopub.status.idle": "2024-10-02T20:59:35.573989Z",
          "shell.execute_reply.started": "2024-10-02T20:59:35.567309Z",
          "shell.execute_reply": "2024-10-02T20:59:35.573012Z"
        },
        "trusted": true,
        "id": "FDyb90Iji_P4"
      },
      "execution_count": null,
      "outputs": []
    },
    {
      "cell_type": "markdown",
      "source": [
        "model stopping with early stopping and stuff\n"
      ],
      "metadata": {
        "id": "GlD58DpEi_P5"
      }
    },
    {
      "cell_type": "code",
      "source": [
        "# function to combine train step and test step\n",
        "# this function is train function\n",
        "\n",
        "def train(mymodelstuff):\n",
        "    results={\"train_loss\":[],\"train_accuracy\":[],\"valid_loss\":[],\"valid_accuracy\":[]}\n",
        "    test_results={\"test_loss\":[],\"test_accuracy\":[],\"test_confustion_matrix\":[]}\n",
        "\n",
        "    model,optimizer,scheduler=mymodelstuff['model'],mymodelstuff['optimizer'],mymodelstuff[\"scheduler\"]\n",
        "    num_epoch_after_early_stop=mymodelstuff['num_epoch_after_early_stop']\n",
        "    max_epoch=mymodelstuff[\"max_epochs\"]\n",
        "    early_stop_reached=False\n",
        "    continue_after_early_stop=mymodelstuff[\"continue_after_early_stop\"]\n",
        "\n",
        "    best_accuracy=0\n",
        "    early_stop_count=mymodelstuff[\"early_stop_count\"]\n",
        "    stop_training=False\n",
        "    count_epoch=0\n",
        "    epoch=0\n",
        "\n",
        "    while not stop_training:\n",
        "\n",
        "        if not early_stop_reached:\n",
        "            train_loss,train_accuracy=train_step(mymodelstuff=mymodelstuff)\n",
        "\n",
        "            scheduler.step(train_loss)\n",
        "\n",
        "            valid_loss,valid_accuracy=valid_step(mymodelstuff=mymodelstuff)\n",
        "\n",
        "\n",
        "\n",
        "           ### print(f\"\\n epoch : {epoch} |Train_loss={train_loss}| Train Accuracy ={train_accuracy} | valid_loss : {valid_loss} | valid accuracy = {valid_accuracy}\")\n",
        "            #results[\"train_loss\"].append(train_loss)\n",
        "            #results[\"valid_loss\"].append(valid_loss)\n",
        "\n",
        "            #results[\"train_accuracy\"].append(train_accuracy)\n",
        "            #results[\"valid_accuracy\"].append(valid_accuracy)\n",
        "\n",
        "\n",
        "            if valid_accuracy>=best_accuracy:\n",
        "                best_accuracy=valid_accuracy\n",
        "                count_epoch=0\n",
        "                best_parameters=copy.deepcopy(model.state_dict())\n",
        "                best_optimizer=copy.deepcopy(optimizer.state_dict())\n",
        "            else:\n",
        "                count_epoch=count_epoch+1\n",
        "\n",
        "            epoch=epoch+1\n",
        "\n",
        "\n",
        "            if (count_epoch>=early_stop_count) or (epoch>=max_epoch):\n",
        "                stop_training=True\n",
        "                model.load_state_dict(best_parameters)\n",
        "                optimizer.load_state_dict(best_optimizer)\n",
        "                print(\" \\n early stop reached \\n\")\n",
        "\n",
        "\n",
        "                if continue_after_early_stop:\n",
        "                    print('\\n continuing after early stopping\\n')\n",
        "                    stop_training=False\n",
        "                    early_stop_reached=True\n",
        "                    mymodelstuff[\"train_dataset\"]=mymodelstuff[\"mixture_dataloader\"]\n",
        "                    epoch=0\n",
        "                    scheduler._reset()\n",
        "        else:\n",
        "\n",
        "            train_loss,train_accuracy=train_step(mymodelstuff)\n",
        "            scheduler.step(train_loss)\n",
        "           # results['train_loss'].append(train_loss)\n",
        "            epoch=epoch+1\n",
        "           ### print(f\"epoch is {epoch} train_loss is {train_loss} after early stop\")\n",
        "            if epoch>=num_epoch_after_early_stop:\n",
        "                stop_training=True\n",
        "\n",
        "\n",
        "\n",
        "\n",
        "\n",
        "\n",
        "\n",
        "\n",
        "\n",
        "    results[\"test_loss\"],results[\"test_accuracy\"],results[\"test_confustion_matrix\"]=test_step(mymodelstuff)\n",
        "\n",
        "    return results"
      ],
      "metadata": {
        "execution": {
          "iopub.status.busy": "2024-10-02T20:59:36.974781Z",
          "iopub.execute_input": "2024-10-02T20:59:36.975341Z",
          "iopub.status.idle": "2024-10-02T20:59:36.987246Z",
          "shell.execute_reply.started": "2024-10-02T20:59:36.975303Z",
          "shell.execute_reply": "2024-10-02T20:59:36.986324Z"
        },
        "trusted": true,
        "id": "A3VvUTw5i_P5"
      },
      "execution_count": null,
      "outputs": []
    },
    {
      "cell_type": "code",
      "source": [
        "from google.colab import drive\n",
        "drive.mount('/content/drive')\n",
        "path=Path('/content/drive/MyDrive/bcic')"
      ],
      "metadata": {
        "execution": {
          "iopub.status.busy": "2024-10-02T20:59:37.872741Z",
          "iopub.execute_input": "2024-10-02T20:59:37.873509Z",
          "iopub.status.idle": "2024-10-02T20:59:37.877277Z",
          "shell.execute_reply.started": "2024-10-02T20:59:37.873471Z",
          "shell.execute_reply": "2024-10-02T20:59:37.876390Z"
        },
        "trusted": true,
        "colab": {
          "base_uri": "https://localhost:8080/"
        },
        "id": "WhtzZIR3i_P5",
        "outputId": "52a067b4-0e15-476d-d427-0f60cc41e8cd"
      },
      "execution_count": null,
      "outputs": [
        {
          "output_type": "stream",
          "name": "stdout",
          "text": [
            "Mounted at /content/drive\n"
          ]
        }
      ]
    },
    {
      "cell_type": "code",
      "source": [
        "X_train=np.load(path/'A01T_data.npy')\n",
        "y_train=np.load(path/'A01T_label.npy')-1\n",
        "\n",
        "X_test=np.load(path/\"A01E_data.npy\")\n",
        "y_test=np.load(path/'A01E_label.npy').squeeze()-1\n",
        "\n",
        "\n",
        "X_data,y_data=shuffle_data(data=X_train,label=y_train)\n",
        "\n",
        "#k fold cross validation\n",
        "\n",
        "k_folded_index=generateBalancedFolds(list(range(len(y_data))),y_data)\n",
        "\n",
        "final_confusion_matrix=torch.tensor([])"
      ],
      "metadata": {
        "execution": {
          "iopub.status.busy": "2024-10-02T20:59:42.940763Z",
          "iopub.execute_input": "2024-10-02T20:59:42.941155Z",
          "iopub.status.idle": "2024-10-02T20:59:43.009519Z",
          "shell.execute_reply.started": "2024-10-02T20:59:42.941115Z",
          "shell.execute_reply": "2024-10-02T20:59:43.008583Z"
        },
        "trusted": true,
        "colab": {
          "base_uri": "https://localhost:8080/"
        },
        "id": "Vv4yn8QBi_P5",
        "outputId": "da39ce8b-d64c-4603-b85e-fcc4c3926c75"
      },
      "execution_count": null,
      "outputs": [
        {
          "output_type": "stream",
          "name": "stdout",
          "text": [
            "(288, 22, 1000)\n"
          ]
        }
      ]
    },
    {
      "cell_type": "code",
      "source": [
        "accuracy_of_all_subjects=[]\n",
        "\n",
        "\n",
        "for mn in np.arange(1,10,1):\n",
        "\n",
        "    print(f'\\n\\n\\n j values is {mn}')\n",
        "\n",
        "    X_train=np.load(path/f'A0{mn}T_data.npy')\n",
        "    y_train=np.load(path/f'A0{mn}T_label.npy')-1\n",
        "\n",
        "    X_test=np.load(path/f\"A0{mn}E_data.npy\")\n",
        "    y_test=np.load(path/f'A0{mn}E_label.npy').squeeze()-1\n",
        "\n",
        "\n",
        "    X_data,y_data=shuffle_data(data=X_train,label=y_train)\n",
        "\n",
        "    #k fold cross validation\n",
        "\n",
        "    k_folded_index=generateBalancedFolds(list(range(len(y_data))),y_data)\n",
        "\n",
        "    final_confusion_matrix=torch.tensor([])\n",
        "\n",
        "\n",
        "\n",
        "    test_accuracy=[]\n",
        "\n",
        "    for i,fold in enumerate(k_folded_index):\n",
        "        print(f\"\\n this is {i+1} th fold training \\n\")\n",
        "        k_folded_index_copy=copy.deepcopy(k_folded_index)\n",
        "        test_index=fold\n",
        "        if i+1<10:\n",
        "            valid_index=[j for j in k_folded_index_copy[i+1]]\n",
        "        else:\n",
        "            valid_index=[j for j in k_folded_index_copy[0]]\n",
        "\n",
        "\n",
        "\n",
        "\n",
        "        k_folded_index_copy.remove(valid_index)\n",
        "\n",
        "\n",
        "        train_index=[]\n",
        "        for f in k_folded_index_copy:\n",
        "            for j in f:\n",
        "                train_index.append(j)\n",
        "\n",
        "        X_train=torch.tensor(np.array([X_data[j] for j in train_index])).to(torch.float32)\n",
        "        y_train=torch.tensor(np.array([y_data[j] for j in train_index]))\n",
        "\n",
        "        X_test=torch.tensor(X_test).to(torch.float32)\n",
        "        y_test=torch.tensor(y_test)\n",
        "\n",
        "        X_valid=torch.tensor(np.array([X_data[j] for j in valid_index])).to(torch.float32)\n",
        "        y_valid=torch.tensor(np.array([y_data[j] for j in valid_index]))\n",
        "\n",
        "        X_mixture=torch.concat((X_train,X_valid),dim=0)\n",
        "        y_mixture=torch.concat((y_train,y_valid),dim=0)\n",
        "\n",
        "        train_data_custom=eegDataset(X_train,y_train)\n",
        "        test_data_custom=eegDataset(X_test,y_test)\n",
        "        valid_data_custom=eegDataset(X_valid,y_valid)\n",
        "        mixture_custom=eegDataset(X_mixture,y_mixture)\n",
        "        #turn into dataloader\n",
        "\n",
        "\n",
        "        from torch.utils.data import DataLoader\n",
        "        BATCH_SIZE=16\n",
        "        train_dataloader=DataLoader(dataset=train_data_custom,batch_size=BATCH_SIZE,shuffle=True)\n",
        "        test_dataloader=DataLoader(dataset=test_data_custom,batch_size=BATCH_SIZE)\n",
        "        valid_dataloader=DataLoader(dataset=valid_data_custom,batch_size=BATCH_SIZE)\n",
        "        mixture_dataloader=DataLoader(dataset=mixture_custom,batch_size=BATCH_SIZE)\n",
        "        mymodel1=copy.deepcopy(mymodel)\n",
        "\n",
        "        optimizer = torch.optim.Adam(mymodel1.parameters(), lr=lr)\n",
        "        scheduler = torch.optim.lr_scheduler.ReduceLROnPlateau(optimizer, mode='min', factor=lrFactor,\n",
        "                                                        patience=lrPatience, min_lr=lrMin)\n",
        "        mymodelstuff={\n",
        "            \"model\":mymodel1,\n",
        "            \"train_dataloader\":train_dataloader,\n",
        "            \"valid_dataloader\":valid_dataloader,\n",
        "            \"test_dataloader\":test_dataloader,\n",
        "            \"mixture_dataloader\":mixture_dataloader,\n",
        "            \"optimizer\":optimizer,\n",
        "            \"scheduler\":scheduler,\n",
        "            \"loss_fn\":loss_fn,\n",
        "            \"max_epochs\":500,\n",
        "            \"num_epoch_after_early_stop\":200,\n",
        "            \"continue_after_early_stop\":True,\n",
        "            \"early_stop_count\":50,\n",
        "            \"max_epoch_after_early_stop\":200,\n",
        "            \"device\":device,\n",
        "\n",
        "\n",
        "        }\n",
        "\n",
        "        #train model\n",
        "        test_results=train(mymodelstuff=mymodelstuff)\n",
        "\n",
        "        test_accuracy.append(test_results['test_accuracy'])\n",
        "\n",
        "    accuracy_of_all_subjects.append(np.mean(test_accuracy))\n",
        "    print(f'accuracy_of_all_subject is {accuracy_of_all_subjects}')\n",
        "\n",
        "        #final_confusion_matrix=torch.concat((final_confusion_matrix,test_results[\"test_confusion_matrix\"].unsqueeze(dim=0)),dim=0)\n",
        "    #     with open(save_path,\"a\") as f:\n",
        "    #         f.write(f\"\\n{i+1}th fold training happening\\n\")\n",
        "    #         f.write(test_results)\n",
        "\n",
        "    #cm=torch.mean(final_confusion_matrix,dim=0)\n",
        "    # with open(save_path,\"a\") as f:\n",
        "    #     f.write(\"\\n this is final  result \\n\")\n",
        "    #     f.write(cm)\n",
        "\n"
      ],
      "metadata": {
        "execution": {
          "iopub.status.busy": "2024-10-02T20:59:53.262257Z",
          "iopub.execute_input": "2024-10-02T20:59:53.262687Z"
        },
        "trusted": true,
        "colab": {
          "base_uri": "https://localhost:8080/"
        },
        "id": "vhVwAH7Oi_P6",
        "outputId": "3945d35b-b3b9-4e8c-b5b5-a1292edea631"
      },
      "execution_count": null,
      "outputs": [
        {
          "output_type": "stream",
          "name": "stdout",
          "text": [
            "\n",
            "\n",
            "\n",
            " j values is 1\n",
            "(288, 22, 1000)\n",
            "\n",
            " this is 1 th fold training \n",
            "\n",
            " \n",
            " early stop reached \n",
            "\n",
            "\n",
            " continuing after early stopping\n",
            "\n",
            "\n",
            " after training test accuracy is 0.8194444444444444\n",
            "\n",
            " this is 2 th fold training \n",
            "\n"
          ]
        },
        {
          "output_type": "stream",
          "name": "stderr",
          "text": [
            "<ipython-input-25-c0710340f2f7>:50: UserWarning: To copy construct from a tensor, it is recommended to use sourceTensor.clone().detach() or sourceTensor.clone().detach().requires_grad_(True), rather than torch.tensor(sourceTensor).\n",
            "  X_test=torch.tensor(X_test).to(torch.float32)\n",
            "<ipython-input-25-c0710340f2f7>:51: UserWarning: To copy construct from a tensor, it is recommended to use sourceTensor.clone().detach() or sourceTensor.clone().detach().requires_grad_(True), rather than torch.tensor(sourceTensor).\n",
            "  y_test=torch.tensor(y_test)\n"
          ]
        },
        {
          "output_type": "stream",
          "name": "stdout",
          "text": [
            " \n",
            " early stop reached \n",
            "\n",
            "\n",
            " continuing after early stopping\n",
            "\n",
            "\n",
            " after training test accuracy is 0.8333333333333334\n",
            "\n",
            " this is 3 th fold training \n",
            "\n"
          ]
        },
        {
          "output_type": "stream",
          "name": "stderr",
          "text": [
            "<ipython-input-25-c0710340f2f7>:50: UserWarning: To copy construct from a tensor, it is recommended to use sourceTensor.clone().detach() or sourceTensor.clone().detach().requires_grad_(True), rather than torch.tensor(sourceTensor).\n",
            "  X_test=torch.tensor(X_test).to(torch.float32)\n",
            "<ipython-input-25-c0710340f2f7>:51: UserWarning: To copy construct from a tensor, it is recommended to use sourceTensor.clone().detach() or sourceTensor.clone().detach().requires_grad_(True), rather than torch.tensor(sourceTensor).\n",
            "  y_test=torch.tensor(y_test)\n"
          ]
        },
        {
          "output_type": "stream",
          "name": "stdout",
          "text": [
            " \n",
            " early stop reached \n",
            "\n",
            "\n",
            " continuing after early stopping\n",
            "\n",
            "\n",
            " after training test accuracy is 0.8506944444444444\n",
            "\n",
            " this is 4 th fold training \n",
            "\n"
          ]
        },
        {
          "output_type": "stream",
          "name": "stderr",
          "text": [
            "<ipython-input-25-c0710340f2f7>:50: UserWarning: To copy construct from a tensor, it is recommended to use sourceTensor.clone().detach() or sourceTensor.clone().detach().requires_grad_(True), rather than torch.tensor(sourceTensor).\n",
            "  X_test=torch.tensor(X_test).to(torch.float32)\n",
            "<ipython-input-25-c0710340f2f7>:51: UserWarning: To copy construct from a tensor, it is recommended to use sourceTensor.clone().detach() or sourceTensor.clone().detach().requires_grad_(True), rather than torch.tensor(sourceTensor).\n",
            "  y_test=torch.tensor(y_test)\n"
          ]
        },
        {
          "output_type": "stream",
          "name": "stdout",
          "text": [
            " \n",
            " early stop reached \n",
            "\n",
            "\n",
            " continuing after early stopping\n",
            "\n",
            "\n",
            " after training test accuracy is 0.8402777777777778\n",
            "\n",
            " this is 5 th fold training \n",
            "\n"
          ]
        },
        {
          "output_type": "stream",
          "name": "stderr",
          "text": [
            "<ipython-input-25-c0710340f2f7>:50: UserWarning: To copy construct from a tensor, it is recommended to use sourceTensor.clone().detach() or sourceTensor.clone().detach().requires_grad_(True), rather than torch.tensor(sourceTensor).\n",
            "  X_test=torch.tensor(X_test).to(torch.float32)\n",
            "<ipython-input-25-c0710340f2f7>:51: UserWarning: To copy construct from a tensor, it is recommended to use sourceTensor.clone().detach() or sourceTensor.clone().detach().requires_grad_(True), rather than torch.tensor(sourceTensor).\n",
            "  y_test=torch.tensor(y_test)\n"
          ]
        },
        {
          "output_type": "stream",
          "name": "stdout",
          "text": [
            " \n",
            " early stop reached \n",
            "\n",
            "\n",
            " continuing after early stopping\n",
            "\n",
            "\n",
            " after training test accuracy is 0.8298611111111112\n",
            "\n",
            " this is 6 th fold training \n",
            "\n"
          ]
        },
        {
          "output_type": "stream",
          "name": "stderr",
          "text": [
            "<ipython-input-25-c0710340f2f7>:50: UserWarning: To copy construct from a tensor, it is recommended to use sourceTensor.clone().detach() or sourceTensor.clone().detach().requires_grad_(True), rather than torch.tensor(sourceTensor).\n",
            "  X_test=torch.tensor(X_test).to(torch.float32)\n",
            "<ipython-input-25-c0710340f2f7>:51: UserWarning: To copy construct from a tensor, it is recommended to use sourceTensor.clone().detach() or sourceTensor.clone().detach().requires_grad_(True), rather than torch.tensor(sourceTensor).\n",
            "  y_test=torch.tensor(y_test)\n"
          ]
        },
        {
          "output_type": "stream",
          "name": "stdout",
          "text": [
            " \n",
            " early stop reached \n",
            "\n",
            "\n",
            " continuing after early stopping\n",
            "\n",
            "\n",
            " after training test accuracy is 0.8368055555555556\n",
            "\n",
            " this is 7 th fold training \n",
            "\n"
          ]
        },
        {
          "output_type": "stream",
          "name": "stderr",
          "text": [
            "<ipython-input-25-c0710340f2f7>:50: UserWarning: To copy construct from a tensor, it is recommended to use sourceTensor.clone().detach() or sourceTensor.clone().detach().requires_grad_(True), rather than torch.tensor(sourceTensor).\n",
            "  X_test=torch.tensor(X_test).to(torch.float32)\n",
            "<ipython-input-25-c0710340f2f7>:51: UserWarning: To copy construct from a tensor, it is recommended to use sourceTensor.clone().detach() or sourceTensor.clone().detach().requires_grad_(True), rather than torch.tensor(sourceTensor).\n",
            "  y_test=torch.tensor(y_test)\n"
          ]
        },
        {
          "output_type": "stream",
          "name": "stdout",
          "text": [
            " \n",
            " early stop reached \n",
            "\n",
            "\n",
            " continuing after early stopping\n",
            "\n",
            "\n",
            " after training test accuracy is 0.84375\n",
            "\n",
            " this is 8 th fold training \n",
            "\n"
          ]
        },
        {
          "output_type": "stream",
          "name": "stderr",
          "text": [
            "<ipython-input-25-c0710340f2f7>:50: UserWarning: To copy construct from a tensor, it is recommended to use sourceTensor.clone().detach() or sourceTensor.clone().detach().requires_grad_(True), rather than torch.tensor(sourceTensor).\n",
            "  X_test=torch.tensor(X_test).to(torch.float32)\n",
            "<ipython-input-25-c0710340f2f7>:51: UserWarning: To copy construct from a tensor, it is recommended to use sourceTensor.clone().detach() or sourceTensor.clone().detach().requires_grad_(True), rather than torch.tensor(sourceTensor).\n",
            "  y_test=torch.tensor(y_test)\n"
          ]
        },
        {
          "output_type": "stream",
          "name": "stdout",
          "text": [
            " \n",
            " early stop reached \n",
            "\n",
            "\n",
            " continuing after early stopping\n",
            "\n",
            "\n",
            " after training test accuracy is 0.8298611111111112\n",
            "\n",
            " this is 9 th fold training \n",
            "\n"
          ]
        },
        {
          "output_type": "stream",
          "name": "stderr",
          "text": [
            "<ipython-input-25-c0710340f2f7>:50: UserWarning: To copy construct from a tensor, it is recommended to use sourceTensor.clone().detach() or sourceTensor.clone().detach().requires_grad_(True), rather than torch.tensor(sourceTensor).\n",
            "  X_test=torch.tensor(X_test).to(torch.float32)\n",
            "<ipython-input-25-c0710340f2f7>:51: UserWarning: To copy construct from a tensor, it is recommended to use sourceTensor.clone().detach() or sourceTensor.clone().detach().requires_grad_(True), rather than torch.tensor(sourceTensor).\n",
            "  y_test=torch.tensor(y_test)\n"
          ]
        },
        {
          "output_type": "stream",
          "name": "stdout",
          "text": [
            " \n",
            " early stop reached \n",
            "\n",
            "\n",
            " continuing after early stopping\n",
            "\n",
            "\n",
            " after training test accuracy is 0.8402777777777778\n",
            "\n",
            " this is 10 th fold training \n",
            "\n"
          ]
        },
        {
          "output_type": "stream",
          "name": "stderr",
          "text": [
            "<ipython-input-25-c0710340f2f7>:50: UserWarning: To copy construct from a tensor, it is recommended to use sourceTensor.clone().detach() or sourceTensor.clone().detach().requires_grad_(True), rather than torch.tensor(sourceTensor).\n",
            "  X_test=torch.tensor(X_test).to(torch.float32)\n",
            "<ipython-input-25-c0710340f2f7>:51: UserWarning: To copy construct from a tensor, it is recommended to use sourceTensor.clone().detach() or sourceTensor.clone().detach().requires_grad_(True), rather than torch.tensor(sourceTensor).\n",
            "  y_test=torch.tensor(y_test)\n"
          ]
        },
        {
          "output_type": "stream",
          "name": "stdout",
          "text": [
            " \n",
            " early stop reached \n",
            "\n",
            "\n",
            " continuing after early stopping\n",
            "\n",
            "\n",
            " after training test accuracy is 0.8090277777777778\n",
            "accuracy_of_all_subject is [0.8333333333333334]\n",
            "\n",
            "\n",
            "\n",
            " j values is 2\n",
            "(288, 22, 1000)\n",
            "\n",
            " this is 1 th fold training \n",
            "\n",
            " \n",
            " early stop reached \n",
            "\n",
            "\n",
            " continuing after early stopping\n",
            "\n",
            "\n",
            " after training test accuracy is 0.5659722222222222\n",
            "\n",
            " this is 2 th fold training \n",
            "\n"
          ]
        },
        {
          "output_type": "stream",
          "name": "stderr",
          "text": [
            "<ipython-input-25-c0710340f2f7>:50: UserWarning: To copy construct from a tensor, it is recommended to use sourceTensor.clone().detach() or sourceTensor.clone().detach().requires_grad_(True), rather than torch.tensor(sourceTensor).\n",
            "  X_test=torch.tensor(X_test).to(torch.float32)\n",
            "<ipython-input-25-c0710340f2f7>:51: UserWarning: To copy construct from a tensor, it is recommended to use sourceTensor.clone().detach() or sourceTensor.clone().detach().requires_grad_(True), rather than torch.tensor(sourceTensor).\n",
            "  y_test=torch.tensor(y_test)\n"
          ]
        },
        {
          "output_type": "stream",
          "name": "stdout",
          "text": [
            " \n",
            " early stop reached \n",
            "\n",
            "\n",
            " continuing after early stopping\n",
            "\n",
            "\n",
            " after training test accuracy is 0.5729166666666666\n",
            "\n",
            " this is 3 th fold training \n",
            "\n"
          ]
        },
        {
          "output_type": "stream",
          "name": "stderr",
          "text": [
            "<ipython-input-25-c0710340f2f7>:50: UserWarning: To copy construct from a tensor, it is recommended to use sourceTensor.clone().detach() or sourceTensor.clone().detach().requires_grad_(True), rather than torch.tensor(sourceTensor).\n",
            "  X_test=torch.tensor(X_test).to(torch.float32)\n",
            "<ipython-input-25-c0710340f2f7>:51: UserWarning: To copy construct from a tensor, it is recommended to use sourceTensor.clone().detach() or sourceTensor.clone().detach().requires_grad_(True), rather than torch.tensor(sourceTensor).\n",
            "  y_test=torch.tensor(y_test)\n"
          ]
        },
        {
          "output_type": "stream",
          "name": "stdout",
          "text": [
            " \n",
            " early stop reached \n",
            "\n",
            "\n",
            " continuing after early stopping\n",
            "\n",
            "\n",
            " after training test accuracy is 0.5902777777777778\n",
            "\n",
            " this is 4 th fold training \n",
            "\n"
          ]
        },
        {
          "output_type": "stream",
          "name": "stderr",
          "text": [
            "<ipython-input-25-c0710340f2f7>:50: UserWarning: To copy construct from a tensor, it is recommended to use sourceTensor.clone().detach() or sourceTensor.clone().detach().requires_grad_(True), rather than torch.tensor(sourceTensor).\n",
            "  X_test=torch.tensor(X_test).to(torch.float32)\n",
            "<ipython-input-25-c0710340f2f7>:51: UserWarning: To copy construct from a tensor, it is recommended to use sourceTensor.clone().detach() or sourceTensor.clone().detach().requires_grad_(True), rather than torch.tensor(sourceTensor).\n",
            "  y_test=torch.tensor(y_test)\n"
          ]
        },
        {
          "output_type": "stream",
          "name": "stdout",
          "text": [
            " \n",
            " early stop reached \n",
            "\n",
            "\n",
            " continuing after early stopping\n",
            "\n",
            "\n",
            " after training test accuracy is 0.5902777777777778\n",
            "\n",
            " this is 5 th fold training \n",
            "\n"
          ]
        },
        {
          "output_type": "stream",
          "name": "stderr",
          "text": [
            "<ipython-input-25-c0710340f2f7>:50: UserWarning: To copy construct from a tensor, it is recommended to use sourceTensor.clone().detach() or sourceTensor.clone().detach().requires_grad_(True), rather than torch.tensor(sourceTensor).\n",
            "  X_test=torch.tensor(X_test).to(torch.float32)\n",
            "<ipython-input-25-c0710340f2f7>:51: UserWarning: To copy construct from a tensor, it is recommended to use sourceTensor.clone().detach() or sourceTensor.clone().detach().requires_grad_(True), rather than torch.tensor(sourceTensor).\n",
            "  y_test=torch.tensor(y_test)\n"
          ]
        },
        {
          "output_type": "stream",
          "name": "stdout",
          "text": [
            " \n",
            " early stop reached \n",
            "\n",
            "\n",
            " continuing after early stopping\n",
            "\n",
            "\n",
            " after training test accuracy is 0.5972222222222222\n",
            "\n",
            " this is 6 th fold training \n",
            "\n"
          ]
        },
        {
          "output_type": "stream",
          "name": "stderr",
          "text": [
            "<ipython-input-25-c0710340f2f7>:50: UserWarning: To copy construct from a tensor, it is recommended to use sourceTensor.clone().detach() or sourceTensor.clone().detach().requires_grad_(True), rather than torch.tensor(sourceTensor).\n",
            "  X_test=torch.tensor(X_test).to(torch.float32)\n",
            "<ipython-input-25-c0710340f2f7>:51: UserWarning: To copy construct from a tensor, it is recommended to use sourceTensor.clone().detach() or sourceTensor.clone().detach().requires_grad_(True), rather than torch.tensor(sourceTensor).\n",
            "  y_test=torch.tensor(y_test)\n"
          ]
        },
        {
          "output_type": "stream",
          "name": "stdout",
          "text": [
            " \n",
            " early stop reached \n",
            "\n",
            "\n",
            " continuing after early stopping\n",
            "\n",
            "\n",
            " after training test accuracy is 0.5902777777777778\n",
            "\n",
            " this is 7 th fold training \n",
            "\n"
          ]
        },
        {
          "output_type": "stream",
          "name": "stderr",
          "text": [
            "<ipython-input-25-c0710340f2f7>:50: UserWarning: To copy construct from a tensor, it is recommended to use sourceTensor.clone().detach() or sourceTensor.clone().detach().requires_grad_(True), rather than torch.tensor(sourceTensor).\n",
            "  X_test=torch.tensor(X_test).to(torch.float32)\n",
            "<ipython-input-25-c0710340f2f7>:51: UserWarning: To copy construct from a tensor, it is recommended to use sourceTensor.clone().detach() or sourceTensor.clone().detach().requires_grad_(True), rather than torch.tensor(sourceTensor).\n",
            "  y_test=torch.tensor(y_test)\n"
          ]
        },
        {
          "output_type": "stream",
          "name": "stdout",
          "text": [
            " \n",
            " early stop reached \n",
            "\n",
            "\n",
            " continuing after early stopping\n",
            "\n",
            "\n",
            " after training test accuracy is 0.5798611111111112\n",
            "\n",
            " this is 8 th fold training \n",
            "\n"
          ]
        },
        {
          "output_type": "stream",
          "name": "stderr",
          "text": [
            "<ipython-input-25-c0710340f2f7>:50: UserWarning: To copy construct from a tensor, it is recommended to use sourceTensor.clone().detach() or sourceTensor.clone().detach().requires_grad_(True), rather than torch.tensor(sourceTensor).\n",
            "  X_test=torch.tensor(X_test).to(torch.float32)\n",
            "<ipython-input-25-c0710340f2f7>:51: UserWarning: To copy construct from a tensor, it is recommended to use sourceTensor.clone().detach() or sourceTensor.clone().detach().requires_grad_(True), rather than torch.tensor(sourceTensor).\n",
            "  y_test=torch.tensor(y_test)\n"
          ]
        },
        {
          "output_type": "stream",
          "name": "stdout",
          "text": [
            " \n",
            " early stop reached \n",
            "\n",
            "\n",
            " continuing after early stopping\n",
            "\n",
            "\n",
            " after training test accuracy is 0.5763888888888888\n",
            "\n",
            " this is 9 th fold training \n",
            "\n"
          ]
        },
        {
          "output_type": "stream",
          "name": "stderr",
          "text": [
            "<ipython-input-25-c0710340f2f7>:50: UserWarning: To copy construct from a tensor, it is recommended to use sourceTensor.clone().detach() or sourceTensor.clone().detach().requires_grad_(True), rather than torch.tensor(sourceTensor).\n",
            "  X_test=torch.tensor(X_test).to(torch.float32)\n",
            "<ipython-input-25-c0710340f2f7>:51: UserWarning: To copy construct from a tensor, it is recommended to use sourceTensor.clone().detach() or sourceTensor.clone().detach().requires_grad_(True), rather than torch.tensor(sourceTensor).\n",
            "  y_test=torch.tensor(y_test)\n"
          ]
        },
        {
          "output_type": "stream",
          "name": "stdout",
          "text": [
            " \n",
            " early stop reached \n",
            "\n",
            "\n",
            " continuing after early stopping\n",
            "\n",
            "\n",
            " after training test accuracy is 0.6145833333333334\n",
            "\n",
            " this is 10 th fold training \n",
            "\n"
          ]
        },
        {
          "output_type": "stream",
          "name": "stderr",
          "text": [
            "<ipython-input-25-c0710340f2f7>:50: UserWarning: To copy construct from a tensor, it is recommended to use sourceTensor.clone().detach() or sourceTensor.clone().detach().requires_grad_(True), rather than torch.tensor(sourceTensor).\n",
            "  X_test=torch.tensor(X_test).to(torch.float32)\n",
            "<ipython-input-25-c0710340f2f7>:51: UserWarning: To copy construct from a tensor, it is recommended to use sourceTensor.clone().detach() or sourceTensor.clone().detach().requires_grad_(True), rather than torch.tensor(sourceTensor).\n",
            "  y_test=torch.tensor(y_test)\n"
          ]
        },
        {
          "output_type": "stream",
          "name": "stdout",
          "text": [
            " \n",
            " early stop reached \n",
            "\n",
            "\n",
            " continuing after early stopping\n",
            "\n",
            "\n",
            " after training test accuracy is 0.5763888888888888\n",
            "accuracy_of_all_subject is [0.8333333333333334, 0.5854166666666666]\n",
            "\n",
            "\n",
            "\n",
            " j values is 3\n",
            "(288, 22, 1000)\n",
            "\n",
            " this is 1 th fold training \n",
            "\n",
            " \n",
            " early stop reached \n",
            "\n",
            "\n",
            " continuing after early stopping\n",
            "\n",
            "\n",
            " after training test accuracy is 0.9513888888888888\n",
            "\n",
            " this is 2 th fold training \n",
            "\n"
          ]
        },
        {
          "output_type": "stream",
          "name": "stderr",
          "text": [
            "<ipython-input-25-c0710340f2f7>:50: UserWarning: To copy construct from a tensor, it is recommended to use sourceTensor.clone().detach() or sourceTensor.clone().detach().requires_grad_(True), rather than torch.tensor(sourceTensor).\n",
            "  X_test=torch.tensor(X_test).to(torch.float32)\n",
            "<ipython-input-25-c0710340f2f7>:51: UserWarning: To copy construct from a tensor, it is recommended to use sourceTensor.clone().detach() or sourceTensor.clone().detach().requires_grad_(True), rather than torch.tensor(sourceTensor).\n",
            "  y_test=torch.tensor(y_test)\n"
          ]
        },
        {
          "output_type": "stream",
          "name": "stdout",
          "text": [
            " \n",
            " early stop reached \n",
            "\n",
            "\n",
            " continuing after early stopping\n",
            "\n",
            "\n",
            " after training test accuracy is 0.9513888888888888\n",
            "\n",
            " this is 3 th fold training \n",
            "\n"
          ]
        },
        {
          "output_type": "stream",
          "name": "stderr",
          "text": [
            "<ipython-input-25-c0710340f2f7>:50: UserWarning: To copy construct from a tensor, it is recommended to use sourceTensor.clone().detach() or sourceTensor.clone().detach().requires_grad_(True), rather than torch.tensor(sourceTensor).\n",
            "  X_test=torch.tensor(X_test).to(torch.float32)\n",
            "<ipython-input-25-c0710340f2f7>:51: UserWarning: To copy construct from a tensor, it is recommended to use sourceTensor.clone().detach() or sourceTensor.clone().detach().requires_grad_(True), rather than torch.tensor(sourceTensor).\n",
            "  y_test=torch.tensor(y_test)\n"
          ]
        },
        {
          "output_type": "stream",
          "name": "stdout",
          "text": [
            " \n",
            " early stop reached \n",
            "\n",
            "\n",
            " continuing after early stopping\n",
            "\n",
            "\n",
            " after training test accuracy is 0.9479166666666666\n",
            "\n",
            " this is 4 th fold training \n",
            "\n"
          ]
        },
        {
          "output_type": "stream",
          "name": "stderr",
          "text": [
            "<ipython-input-25-c0710340f2f7>:50: UserWarning: To copy construct from a tensor, it is recommended to use sourceTensor.clone().detach() or sourceTensor.clone().detach().requires_grad_(True), rather than torch.tensor(sourceTensor).\n",
            "  X_test=torch.tensor(X_test).to(torch.float32)\n",
            "<ipython-input-25-c0710340f2f7>:51: UserWarning: To copy construct from a tensor, it is recommended to use sourceTensor.clone().detach() or sourceTensor.clone().detach().requires_grad_(True), rather than torch.tensor(sourceTensor).\n",
            "  y_test=torch.tensor(y_test)\n"
          ]
        },
        {
          "output_type": "stream",
          "name": "stdout",
          "text": [
            " \n",
            " early stop reached \n",
            "\n",
            "\n",
            " continuing after early stopping\n",
            "\n",
            "\n",
            " after training test accuracy is 0.9513888888888888\n",
            "\n",
            " this is 5 th fold training \n",
            "\n"
          ]
        },
        {
          "output_type": "stream",
          "name": "stderr",
          "text": [
            "<ipython-input-25-c0710340f2f7>:50: UserWarning: To copy construct from a tensor, it is recommended to use sourceTensor.clone().detach() or sourceTensor.clone().detach().requires_grad_(True), rather than torch.tensor(sourceTensor).\n",
            "  X_test=torch.tensor(X_test).to(torch.float32)\n",
            "<ipython-input-25-c0710340f2f7>:51: UserWarning: To copy construct from a tensor, it is recommended to use sourceTensor.clone().detach() or sourceTensor.clone().detach().requires_grad_(True), rather than torch.tensor(sourceTensor).\n",
            "  y_test=torch.tensor(y_test)\n"
          ]
        },
        {
          "output_type": "stream",
          "name": "stdout",
          "text": [
            " \n",
            " early stop reached \n",
            "\n",
            "\n",
            " continuing after early stopping\n",
            "\n",
            "\n",
            " after training test accuracy is 0.9375\n",
            "\n",
            " this is 6 th fold training \n",
            "\n"
          ]
        },
        {
          "output_type": "stream",
          "name": "stderr",
          "text": [
            "<ipython-input-25-c0710340f2f7>:50: UserWarning: To copy construct from a tensor, it is recommended to use sourceTensor.clone().detach() or sourceTensor.clone().detach().requires_grad_(True), rather than torch.tensor(sourceTensor).\n",
            "  X_test=torch.tensor(X_test).to(torch.float32)\n",
            "<ipython-input-25-c0710340f2f7>:51: UserWarning: To copy construct from a tensor, it is recommended to use sourceTensor.clone().detach() or sourceTensor.clone().detach().requires_grad_(True), rather than torch.tensor(sourceTensor).\n",
            "  y_test=torch.tensor(y_test)\n"
          ]
        },
        {
          "output_type": "stream",
          "name": "stdout",
          "text": [
            " \n",
            " early stop reached \n",
            "\n",
            "\n",
            " continuing after early stopping\n",
            "\n",
            "\n",
            " after training test accuracy is 0.9340277777777778\n",
            "\n",
            " this is 7 th fold training \n",
            "\n"
          ]
        },
        {
          "output_type": "stream",
          "name": "stderr",
          "text": [
            "<ipython-input-25-c0710340f2f7>:50: UserWarning: To copy construct from a tensor, it is recommended to use sourceTensor.clone().detach() or sourceTensor.clone().detach().requires_grad_(True), rather than torch.tensor(sourceTensor).\n",
            "  X_test=torch.tensor(X_test).to(torch.float32)\n",
            "<ipython-input-25-c0710340f2f7>:51: UserWarning: To copy construct from a tensor, it is recommended to use sourceTensor.clone().detach() or sourceTensor.clone().detach().requires_grad_(True), rather than torch.tensor(sourceTensor).\n",
            "  y_test=torch.tensor(y_test)\n"
          ]
        },
        {
          "output_type": "stream",
          "name": "stdout",
          "text": [
            " \n",
            " early stop reached \n",
            "\n",
            "\n",
            " continuing after early stopping\n",
            "\n",
            "\n",
            " after training test accuracy is 0.9131944444444444\n",
            "\n",
            " this is 8 th fold training \n",
            "\n"
          ]
        },
        {
          "output_type": "stream",
          "name": "stderr",
          "text": [
            "<ipython-input-25-c0710340f2f7>:50: UserWarning: To copy construct from a tensor, it is recommended to use sourceTensor.clone().detach() or sourceTensor.clone().detach().requires_grad_(True), rather than torch.tensor(sourceTensor).\n",
            "  X_test=torch.tensor(X_test).to(torch.float32)\n",
            "<ipython-input-25-c0710340f2f7>:51: UserWarning: To copy construct from a tensor, it is recommended to use sourceTensor.clone().detach() or sourceTensor.clone().detach().requires_grad_(True), rather than torch.tensor(sourceTensor).\n",
            "  y_test=torch.tensor(y_test)\n"
          ]
        },
        {
          "output_type": "stream",
          "name": "stdout",
          "text": [
            " \n",
            " early stop reached \n",
            "\n",
            "\n",
            " continuing after early stopping\n",
            "\n",
            "\n",
            " after training test accuracy is 0.9444444444444444\n",
            "\n",
            " this is 9 th fold training \n",
            "\n"
          ]
        },
        {
          "output_type": "stream",
          "name": "stderr",
          "text": [
            "<ipython-input-25-c0710340f2f7>:50: UserWarning: To copy construct from a tensor, it is recommended to use sourceTensor.clone().detach() or sourceTensor.clone().detach().requires_grad_(True), rather than torch.tensor(sourceTensor).\n",
            "  X_test=torch.tensor(X_test).to(torch.float32)\n",
            "<ipython-input-25-c0710340f2f7>:51: UserWarning: To copy construct from a tensor, it is recommended to use sourceTensor.clone().detach() or sourceTensor.clone().detach().requires_grad_(True), rather than torch.tensor(sourceTensor).\n",
            "  y_test=torch.tensor(y_test)\n"
          ]
        },
        {
          "output_type": "stream",
          "name": "stdout",
          "text": [
            " \n",
            " early stop reached \n",
            "\n",
            "\n",
            " continuing after early stopping\n",
            "\n",
            "\n",
            " after training test accuracy is 0.9375\n",
            "\n",
            " this is 10 th fold training \n",
            "\n"
          ]
        },
        {
          "output_type": "stream",
          "name": "stderr",
          "text": [
            "<ipython-input-25-c0710340f2f7>:50: UserWarning: To copy construct from a tensor, it is recommended to use sourceTensor.clone().detach() or sourceTensor.clone().detach().requires_grad_(True), rather than torch.tensor(sourceTensor).\n",
            "  X_test=torch.tensor(X_test).to(torch.float32)\n",
            "<ipython-input-25-c0710340f2f7>:51: UserWarning: To copy construct from a tensor, it is recommended to use sourceTensor.clone().detach() or sourceTensor.clone().detach().requires_grad_(True), rather than torch.tensor(sourceTensor).\n",
            "  y_test=torch.tensor(y_test)\n"
          ]
        },
        {
          "output_type": "stream",
          "name": "stdout",
          "text": [
            " \n",
            " early stop reached \n",
            "\n",
            "\n",
            " continuing after early stopping\n",
            "\n",
            "\n",
            " after training test accuracy is 0.9513888888888888\n",
            "accuracy_of_all_subject is [0.8333333333333334, 0.5854166666666666, 0.9420138888888889]\n",
            "\n",
            "\n",
            "\n",
            " j values is 4\n",
            "(288, 22, 1000)\n",
            "\n",
            " this is 1 th fold training \n",
            "\n",
            " \n",
            " early stop reached \n",
            "\n",
            "\n",
            " continuing after early stopping\n",
            "\n",
            "\n",
            " after training test accuracy is 0.7326388888888888\n",
            "\n",
            " this is 2 th fold training \n",
            "\n"
          ]
        },
        {
          "output_type": "stream",
          "name": "stderr",
          "text": [
            "<ipython-input-25-c0710340f2f7>:50: UserWarning: To copy construct from a tensor, it is recommended to use sourceTensor.clone().detach() or sourceTensor.clone().detach().requires_grad_(True), rather than torch.tensor(sourceTensor).\n",
            "  X_test=torch.tensor(X_test).to(torch.float32)\n",
            "<ipython-input-25-c0710340f2f7>:51: UserWarning: To copy construct from a tensor, it is recommended to use sourceTensor.clone().detach() or sourceTensor.clone().detach().requires_grad_(True), rather than torch.tensor(sourceTensor).\n",
            "  y_test=torch.tensor(y_test)\n"
          ]
        },
        {
          "output_type": "stream",
          "name": "stdout",
          "text": [
            " \n",
            " early stop reached \n",
            "\n",
            "\n",
            " continuing after early stopping\n",
            "\n",
            "\n",
            " after training test accuracy is 0.7881944444444444\n",
            "\n",
            " this is 3 th fold training \n",
            "\n"
          ]
        },
        {
          "output_type": "stream",
          "name": "stderr",
          "text": [
            "<ipython-input-25-c0710340f2f7>:50: UserWarning: To copy construct from a tensor, it is recommended to use sourceTensor.clone().detach() or sourceTensor.clone().detach().requires_grad_(True), rather than torch.tensor(sourceTensor).\n",
            "  X_test=torch.tensor(X_test).to(torch.float32)\n",
            "<ipython-input-25-c0710340f2f7>:51: UserWarning: To copy construct from a tensor, it is recommended to use sourceTensor.clone().detach() or sourceTensor.clone().detach().requires_grad_(True), rather than torch.tensor(sourceTensor).\n",
            "  y_test=torch.tensor(y_test)\n"
          ]
        },
        {
          "output_type": "stream",
          "name": "stdout",
          "text": [
            " \n",
            " early stop reached \n",
            "\n",
            "\n",
            " continuing after early stopping\n",
            "\n",
            "\n",
            " after training test accuracy is 0.7326388888888888\n",
            "\n",
            " this is 4 th fold training \n",
            "\n"
          ]
        },
        {
          "output_type": "stream",
          "name": "stderr",
          "text": [
            "<ipython-input-25-c0710340f2f7>:50: UserWarning: To copy construct from a tensor, it is recommended to use sourceTensor.clone().detach() or sourceTensor.clone().detach().requires_grad_(True), rather than torch.tensor(sourceTensor).\n",
            "  X_test=torch.tensor(X_test).to(torch.float32)\n",
            "<ipython-input-25-c0710340f2f7>:51: UserWarning: To copy construct from a tensor, it is recommended to use sourceTensor.clone().detach() or sourceTensor.clone().detach().requires_grad_(True), rather than torch.tensor(sourceTensor).\n",
            "  y_test=torch.tensor(y_test)\n"
          ]
        },
        {
          "output_type": "stream",
          "name": "stdout",
          "text": [
            " \n",
            " early stop reached \n",
            "\n",
            "\n",
            " continuing after early stopping\n",
            "\n",
            "\n",
            " after training test accuracy is 0.6979166666666666\n",
            "\n",
            " this is 5 th fold training \n",
            "\n"
          ]
        },
        {
          "output_type": "stream",
          "name": "stderr",
          "text": [
            "<ipython-input-25-c0710340f2f7>:50: UserWarning: To copy construct from a tensor, it is recommended to use sourceTensor.clone().detach() or sourceTensor.clone().detach().requires_grad_(True), rather than torch.tensor(sourceTensor).\n",
            "  X_test=torch.tensor(X_test).to(torch.float32)\n",
            "<ipython-input-25-c0710340f2f7>:51: UserWarning: To copy construct from a tensor, it is recommended to use sourceTensor.clone().detach() or sourceTensor.clone().detach().requires_grad_(True), rather than torch.tensor(sourceTensor).\n",
            "  y_test=torch.tensor(y_test)\n"
          ]
        },
        {
          "output_type": "stream",
          "name": "stdout",
          "text": [
            " \n",
            " early stop reached \n",
            "\n",
            "\n",
            " continuing after early stopping\n",
            "\n",
            "\n",
            " after training test accuracy is 0.7083333333333334\n",
            "\n",
            " this is 6 th fold training \n",
            "\n"
          ]
        },
        {
          "output_type": "stream",
          "name": "stderr",
          "text": [
            "<ipython-input-25-c0710340f2f7>:50: UserWarning: To copy construct from a tensor, it is recommended to use sourceTensor.clone().detach() or sourceTensor.clone().detach().requires_grad_(True), rather than torch.tensor(sourceTensor).\n",
            "  X_test=torch.tensor(X_test).to(torch.float32)\n",
            "<ipython-input-25-c0710340f2f7>:51: UserWarning: To copy construct from a tensor, it is recommended to use sourceTensor.clone().detach() or sourceTensor.clone().detach().requires_grad_(True), rather than torch.tensor(sourceTensor).\n",
            "  y_test=torch.tensor(y_test)\n"
          ]
        },
        {
          "output_type": "stream",
          "name": "stdout",
          "text": [
            " \n",
            " early stop reached \n",
            "\n",
            "\n",
            " continuing after early stopping\n",
            "\n",
            "\n",
            " after training test accuracy is 0.7118055555555556\n",
            "\n",
            " this is 7 th fold training \n",
            "\n"
          ]
        },
        {
          "output_type": "stream",
          "name": "stderr",
          "text": [
            "<ipython-input-25-c0710340f2f7>:50: UserWarning: To copy construct from a tensor, it is recommended to use sourceTensor.clone().detach() or sourceTensor.clone().detach().requires_grad_(True), rather than torch.tensor(sourceTensor).\n",
            "  X_test=torch.tensor(X_test).to(torch.float32)\n",
            "<ipython-input-25-c0710340f2f7>:51: UserWarning: To copy construct from a tensor, it is recommended to use sourceTensor.clone().detach() or sourceTensor.clone().detach().requires_grad_(True), rather than torch.tensor(sourceTensor).\n",
            "  y_test=torch.tensor(y_test)\n"
          ]
        },
        {
          "output_type": "stream",
          "name": "stdout",
          "text": [
            " \n",
            " early stop reached \n",
            "\n",
            "\n",
            " continuing after early stopping\n",
            "\n",
            "\n",
            " after training test accuracy is 0.71875\n",
            "\n",
            " this is 8 th fold training \n",
            "\n"
          ]
        },
        {
          "output_type": "stream",
          "name": "stderr",
          "text": [
            "<ipython-input-25-c0710340f2f7>:50: UserWarning: To copy construct from a tensor, it is recommended to use sourceTensor.clone().detach() or sourceTensor.clone().detach().requires_grad_(True), rather than torch.tensor(sourceTensor).\n",
            "  X_test=torch.tensor(X_test).to(torch.float32)\n",
            "<ipython-input-25-c0710340f2f7>:51: UserWarning: To copy construct from a tensor, it is recommended to use sourceTensor.clone().detach() or sourceTensor.clone().detach().requires_grad_(True), rather than torch.tensor(sourceTensor).\n",
            "  y_test=torch.tensor(y_test)\n"
          ]
        },
        {
          "output_type": "stream",
          "name": "stdout",
          "text": [
            " \n",
            " early stop reached \n",
            "\n",
            "\n",
            " continuing after early stopping\n",
            "\n",
            "\n",
            " after training test accuracy is 0.7604166666666666\n",
            "\n",
            " this is 9 th fold training \n",
            "\n"
          ]
        },
        {
          "output_type": "stream",
          "name": "stderr",
          "text": [
            "<ipython-input-25-c0710340f2f7>:50: UserWarning: To copy construct from a tensor, it is recommended to use sourceTensor.clone().detach() or sourceTensor.clone().detach().requires_grad_(True), rather than torch.tensor(sourceTensor).\n",
            "  X_test=torch.tensor(X_test).to(torch.float32)\n",
            "<ipython-input-25-c0710340f2f7>:51: UserWarning: To copy construct from a tensor, it is recommended to use sourceTensor.clone().detach() or sourceTensor.clone().detach().requires_grad_(True), rather than torch.tensor(sourceTensor).\n",
            "  y_test=torch.tensor(y_test)\n"
          ]
        },
        {
          "output_type": "stream",
          "name": "stdout",
          "text": [
            " \n",
            " early stop reached \n",
            "\n",
            "\n",
            " continuing after early stopping\n",
            "\n",
            "\n",
            " after training test accuracy is 0.6840277777777778\n",
            "\n",
            " this is 10 th fold training \n",
            "\n"
          ]
        },
        {
          "output_type": "stream",
          "name": "stderr",
          "text": [
            "<ipython-input-25-c0710340f2f7>:50: UserWarning: To copy construct from a tensor, it is recommended to use sourceTensor.clone().detach() or sourceTensor.clone().detach().requires_grad_(True), rather than torch.tensor(sourceTensor).\n",
            "  X_test=torch.tensor(X_test).to(torch.float32)\n",
            "<ipython-input-25-c0710340f2f7>:51: UserWarning: To copy construct from a tensor, it is recommended to use sourceTensor.clone().detach() or sourceTensor.clone().detach().requires_grad_(True), rather than torch.tensor(sourceTensor).\n",
            "  y_test=torch.tensor(y_test)\n"
          ]
        },
        {
          "output_type": "stream",
          "name": "stdout",
          "text": [
            " \n",
            " early stop reached \n",
            "\n",
            "\n",
            " continuing after early stopping\n",
            "\n",
            "\n",
            " after training test accuracy is 0.7118055555555556\n",
            "accuracy_of_all_subject is [0.8333333333333334, 0.5854166666666666, 0.9420138888888889, 0.7246527777777777]\n",
            "\n",
            "\n",
            "\n",
            " j values is 5\n",
            "(288, 22, 1000)\n",
            "\n",
            " this is 1 th fold training \n",
            "\n",
            " \n",
            " early stop reached \n",
            "\n",
            "\n",
            " continuing after early stopping\n",
            "\n",
            "\n",
            " after training test accuracy is 0.7465277777777778\n",
            "\n",
            " this is 2 th fold training \n",
            "\n"
          ]
        },
        {
          "output_type": "stream",
          "name": "stderr",
          "text": [
            "<ipython-input-25-c0710340f2f7>:50: UserWarning: To copy construct from a tensor, it is recommended to use sourceTensor.clone().detach() or sourceTensor.clone().detach().requires_grad_(True), rather than torch.tensor(sourceTensor).\n",
            "  X_test=torch.tensor(X_test).to(torch.float32)\n",
            "<ipython-input-25-c0710340f2f7>:51: UserWarning: To copy construct from a tensor, it is recommended to use sourceTensor.clone().detach() or sourceTensor.clone().detach().requires_grad_(True), rather than torch.tensor(sourceTensor).\n",
            "  y_test=torch.tensor(y_test)\n"
          ]
        },
        {
          "output_type": "stream",
          "name": "stdout",
          "text": [
            " \n",
            " early stop reached \n",
            "\n",
            "\n",
            " continuing after early stopping\n",
            "\n",
            "\n",
            " after training test accuracy is 0.75\n",
            "\n",
            " this is 3 th fold training \n",
            "\n"
          ]
        },
        {
          "output_type": "stream",
          "name": "stderr",
          "text": [
            "<ipython-input-25-c0710340f2f7>:50: UserWarning: To copy construct from a tensor, it is recommended to use sourceTensor.clone().detach() or sourceTensor.clone().detach().requires_grad_(True), rather than torch.tensor(sourceTensor).\n",
            "  X_test=torch.tensor(X_test).to(torch.float32)\n",
            "<ipython-input-25-c0710340f2f7>:51: UserWarning: To copy construct from a tensor, it is recommended to use sourceTensor.clone().detach() or sourceTensor.clone().detach().requires_grad_(True), rather than torch.tensor(sourceTensor).\n",
            "  y_test=torch.tensor(y_test)\n"
          ]
        },
        {
          "output_type": "stream",
          "name": "stdout",
          "text": [
            " \n",
            " early stop reached \n",
            "\n",
            "\n",
            " continuing after early stopping\n",
            "\n",
            "\n",
            " after training test accuracy is 0.7534722222222222\n",
            "\n",
            " this is 4 th fold training \n",
            "\n"
          ]
        },
        {
          "output_type": "stream",
          "name": "stderr",
          "text": [
            "<ipython-input-25-c0710340f2f7>:50: UserWarning: To copy construct from a tensor, it is recommended to use sourceTensor.clone().detach() or sourceTensor.clone().detach().requires_grad_(True), rather than torch.tensor(sourceTensor).\n",
            "  X_test=torch.tensor(X_test).to(torch.float32)\n",
            "<ipython-input-25-c0710340f2f7>:51: UserWarning: To copy construct from a tensor, it is recommended to use sourceTensor.clone().detach() or sourceTensor.clone().detach().requires_grad_(True), rather than torch.tensor(sourceTensor).\n",
            "  y_test=torch.tensor(y_test)\n"
          ]
        },
        {
          "output_type": "stream",
          "name": "stdout",
          "text": [
            " \n",
            " early stop reached \n",
            "\n",
            "\n",
            " continuing after early stopping\n",
            "\n",
            "\n",
            " after training test accuracy is 0.7291666666666666\n",
            "\n",
            " this is 5 th fold training \n",
            "\n"
          ]
        },
        {
          "output_type": "stream",
          "name": "stderr",
          "text": [
            "<ipython-input-25-c0710340f2f7>:50: UserWarning: To copy construct from a tensor, it is recommended to use sourceTensor.clone().detach() or sourceTensor.clone().detach().requires_grad_(True), rather than torch.tensor(sourceTensor).\n",
            "  X_test=torch.tensor(X_test).to(torch.float32)\n",
            "<ipython-input-25-c0710340f2f7>:51: UserWarning: To copy construct from a tensor, it is recommended to use sourceTensor.clone().detach() or sourceTensor.clone().detach().requires_grad_(True), rather than torch.tensor(sourceTensor).\n",
            "  y_test=torch.tensor(y_test)\n"
          ]
        },
        {
          "output_type": "stream",
          "name": "stdout",
          "text": [
            " \n",
            " early stop reached \n",
            "\n",
            "\n",
            " continuing after early stopping\n",
            "\n",
            "\n",
            " after training test accuracy is 0.7256944444444444\n",
            "\n",
            " this is 6 th fold training \n",
            "\n"
          ]
        },
        {
          "output_type": "stream",
          "name": "stderr",
          "text": [
            "<ipython-input-25-c0710340f2f7>:50: UserWarning: To copy construct from a tensor, it is recommended to use sourceTensor.clone().detach() or sourceTensor.clone().detach().requires_grad_(True), rather than torch.tensor(sourceTensor).\n",
            "  X_test=torch.tensor(X_test).to(torch.float32)\n",
            "<ipython-input-25-c0710340f2f7>:51: UserWarning: To copy construct from a tensor, it is recommended to use sourceTensor.clone().detach() or sourceTensor.clone().detach().requires_grad_(True), rather than torch.tensor(sourceTensor).\n",
            "  y_test=torch.tensor(y_test)\n"
          ]
        },
        {
          "output_type": "stream",
          "name": "stdout",
          "text": [
            " \n",
            " early stop reached \n",
            "\n",
            "\n",
            " continuing after early stopping\n",
            "\n",
            "\n",
            " after training test accuracy is 0.7361111111111112\n",
            "\n",
            " this is 7 th fold training \n",
            "\n"
          ]
        },
        {
          "output_type": "stream",
          "name": "stderr",
          "text": [
            "<ipython-input-25-c0710340f2f7>:50: UserWarning: To copy construct from a tensor, it is recommended to use sourceTensor.clone().detach() or sourceTensor.clone().detach().requires_grad_(True), rather than torch.tensor(sourceTensor).\n",
            "  X_test=torch.tensor(X_test).to(torch.float32)\n",
            "<ipython-input-25-c0710340f2f7>:51: UserWarning: To copy construct from a tensor, it is recommended to use sourceTensor.clone().detach() or sourceTensor.clone().detach().requires_grad_(True), rather than torch.tensor(sourceTensor).\n",
            "  y_test=torch.tensor(y_test)\n"
          ]
        },
        {
          "output_type": "stream",
          "name": "stdout",
          "text": [
            " \n",
            " early stop reached \n",
            "\n",
            "\n",
            " continuing after early stopping\n",
            "\n",
            "\n",
            " after training test accuracy is 0.7326388888888888\n",
            "\n",
            " this is 8 th fold training \n",
            "\n"
          ]
        },
        {
          "output_type": "stream",
          "name": "stderr",
          "text": [
            "<ipython-input-25-c0710340f2f7>:50: UserWarning: To copy construct from a tensor, it is recommended to use sourceTensor.clone().detach() or sourceTensor.clone().detach().requires_grad_(True), rather than torch.tensor(sourceTensor).\n",
            "  X_test=torch.tensor(X_test).to(torch.float32)\n",
            "<ipython-input-25-c0710340f2f7>:51: UserWarning: To copy construct from a tensor, it is recommended to use sourceTensor.clone().detach() or sourceTensor.clone().detach().requires_grad_(True), rather than torch.tensor(sourceTensor).\n",
            "  y_test=torch.tensor(y_test)\n"
          ]
        },
        {
          "output_type": "stream",
          "name": "stdout",
          "text": [
            " \n",
            " early stop reached \n",
            "\n",
            "\n",
            " continuing after early stopping\n",
            "\n",
            "\n",
            " after training test accuracy is 0.71875\n",
            "\n",
            " this is 9 th fold training \n",
            "\n"
          ]
        },
        {
          "output_type": "stream",
          "name": "stderr",
          "text": [
            "<ipython-input-25-c0710340f2f7>:50: UserWarning: To copy construct from a tensor, it is recommended to use sourceTensor.clone().detach() or sourceTensor.clone().detach().requires_grad_(True), rather than torch.tensor(sourceTensor).\n",
            "  X_test=torch.tensor(X_test).to(torch.float32)\n",
            "<ipython-input-25-c0710340f2f7>:51: UserWarning: To copy construct from a tensor, it is recommended to use sourceTensor.clone().detach() or sourceTensor.clone().detach().requires_grad_(True), rather than torch.tensor(sourceTensor).\n",
            "  y_test=torch.tensor(y_test)\n"
          ]
        },
        {
          "output_type": "stream",
          "name": "stdout",
          "text": [
            " \n",
            " early stop reached \n",
            "\n",
            "\n",
            " continuing after early stopping\n",
            "\n",
            "\n",
            " after training test accuracy is 0.7013888888888888\n",
            "\n",
            " this is 10 th fold training \n",
            "\n"
          ]
        },
        {
          "output_type": "stream",
          "name": "stderr",
          "text": [
            "<ipython-input-25-c0710340f2f7>:50: UserWarning: To copy construct from a tensor, it is recommended to use sourceTensor.clone().detach() or sourceTensor.clone().detach().requires_grad_(True), rather than torch.tensor(sourceTensor).\n",
            "  X_test=torch.tensor(X_test).to(torch.float32)\n",
            "<ipython-input-25-c0710340f2f7>:51: UserWarning: To copy construct from a tensor, it is recommended to use sourceTensor.clone().detach() or sourceTensor.clone().detach().requires_grad_(True), rather than torch.tensor(sourceTensor).\n",
            "  y_test=torch.tensor(y_test)\n"
          ]
        },
        {
          "output_type": "stream",
          "name": "stdout",
          "text": [
            " \n",
            " early stop reached \n",
            "\n",
            "\n",
            " continuing after early stopping\n",
            "\n",
            "\n",
            " after training test accuracy is 0.7569444444444444\n",
            "accuracy_of_all_subject is [0.8333333333333334, 0.5854166666666666, 0.9420138888888889, 0.7246527777777777, 0.7350694444444444]\n",
            "\n",
            "\n",
            "\n",
            " j values is 6\n",
            "(288, 22, 1000)\n",
            "\n",
            " this is 1 th fold training \n",
            "\n",
            " \n",
            " early stop reached \n",
            "\n",
            "\n",
            " continuing after early stopping\n",
            "\n",
            "\n",
            " after training test accuracy is 0.6805555555555556\n",
            "\n",
            " this is 2 th fold training \n",
            "\n"
          ]
        },
        {
          "output_type": "stream",
          "name": "stderr",
          "text": [
            "<ipython-input-25-c0710340f2f7>:50: UserWarning: To copy construct from a tensor, it is recommended to use sourceTensor.clone().detach() or sourceTensor.clone().detach().requires_grad_(True), rather than torch.tensor(sourceTensor).\n",
            "  X_test=torch.tensor(X_test).to(torch.float32)\n",
            "<ipython-input-25-c0710340f2f7>:51: UserWarning: To copy construct from a tensor, it is recommended to use sourceTensor.clone().detach() or sourceTensor.clone().detach().requires_grad_(True), rather than torch.tensor(sourceTensor).\n",
            "  y_test=torch.tensor(y_test)\n"
          ]
        },
        {
          "output_type": "stream",
          "name": "stdout",
          "text": [
            " \n",
            " early stop reached \n",
            "\n",
            "\n",
            " continuing after early stopping\n",
            "\n",
            "\n",
            " after training test accuracy is 0.6770833333333334\n",
            "\n",
            " this is 3 th fold training \n",
            "\n"
          ]
        },
        {
          "output_type": "stream",
          "name": "stderr",
          "text": [
            "<ipython-input-25-c0710340f2f7>:50: UserWarning: To copy construct from a tensor, it is recommended to use sourceTensor.clone().detach() or sourceTensor.clone().detach().requires_grad_(True), rather than torch.tensor(sourceTensor).\n",
            "  X_test=torch.tensor(X_test).to(torch.float32)\n",
            "<ipython-input-25-c0710340f2f7>:51: UserWarning: To copy construct from a tensor, it is recommended to use sourceTensor.clone().detach() or sourceTensor.clone().detach().requires_grad_(True), rather than torch.tensor(sourceTensor).\n",
            "  y_test=torch.tensor(y_test)\n"
          ]
        },
        {
          "output_type": "stream",
          "name": "stdout",
          "text": [
            " \n",
            " early stop reached \n",
            "\n",
            "\n",
            " continuing after early stopping\n",
            "\n",
            "\n",
            " after training test accuracy is 0.6944444444444444\n",
            "\n",
            " this is 4 th fold training \n",
            "\n"
          ]
        },
        {
          "output_type": "stream",
          "name": "stderr",
          "text": [
            "<ipython-input-25-c0710340f2f7>:50: UserWarning: To copy construct from a tensor, it is recommended to use sourceTensor.clone().detach() or sourceTensor.clone().detach().requires_grad_(True), rather than torch.tensor(sourceTensor).\n",
            "  X_test=torch.tensor(X_test).to(torch.float32)\n",
            "<ipython-input-25-c0710340f2f7>:51: UserWarning: To copy construct from a tensor, it is recommended to use sourceTensor.clone().detach() or sourceTensor.clone().detach().requires_grad_(True), rather than torch.tensor(sourceTensor).\n",
            "  y_test=torch.tensor(y_test)\n"
          ]
        },
        {
          "output_type": "stream",
          "name": "stdout",
          "text": [
            " \n",
            " early stop reached \n",
            "\n",
            "\n",
            " continuing after early stopping\n",
            "\n",
            "\n",
            " after training test accuracy is 0.6979166666666666\n",
            "\n",
            " this is 5 th fold training \n",
            "\n"
          ]
        },
        {
          "output_type": "stream",
          "name": "stderr",
          "text": [
            "<ipython-input-25-c0710340f2f7>:50: UserWarning: To copy construct from a tensor, it is recommended to use sourceTensor.clone().detach() or sourceTensor.clone().detach().requires_grad_(True), rather than torch.tensor(sourceTensor).\n",
            "  X_test=torch.tensor(X_test).to(torch.float32)\n",
            "<ipython-input-25-c0710340f2f7>:51: UserWarning: To copy construct from a tensor, it is recommended to use sourceTensor.clone().detach() or sourceTensor.clone().detach().requires_grad_(True), rather than torch.tensor(sourceTensor).\n",
            "  y_test=torch.tensor(y_test)\n"
          ]
        },
        {
          "output_type": "stream",
          "name": "stdout",
          "text": [
            " \n",
            " early stop reached \n",
            "\n",
            "\n",
            " continuing after early stopping\n",
            "\n",
            "\n",
            " after training test accuracy is 0.6041666666666666\n",
            "\n",
            " this is 6 th fold training \n",
            "\n"
          ]
        },
        {
          "output_type": "stream",
          "name": "stderr",
          "text": [
            "<ipython-input-25-c0710340f2f7>:50: UserWarning: To copy construct from a tensor, it is recommended to use sourceTensor.clone().detach() or sourceTensor.clone().detach().requires_grad_(True), rather than torch.tensor(sourceTensor).\n",
            "  X_test=torch.tensor(X_test).to(torch.float32)\n",
            "<ipython-input-25-c0710340f2f7>:51: UserWarning: To copy construct from a tensor, it is recommended to use sourceTensor.clone().detach() or sourceTensor.clone().detach().requires_grad_(True), rather than torch.tensor(sourceTensor).\n",
            "  y_test=torch.tensor(y_test)\n"
          ]
        },
        {
          "output_type": "stream",
          "name": "stdout",
          "text": [
            " \n",
            " early stop reached \n",
            "\n",
            "\n",
            " continuing after early stopping\n",
            "\n",
            "\n",
            " after training test accuracy is 0.7118055555555556\n",
            "\n",
            " this is 7 th fold training \n",
            "\n"
          ]
        },
        {
          "output_type": "stream",
          "name": "stderr",
          "text": [
            "<ipython-input-25-c0710340f2f7>:50: UserWarning: To copy construct from a tensor, it is recommended to use sourceTensor.clone().detach() or sourceTensor.clone().detach().requires_grad_(True), rather than torch.tensor(sourceTensor).\n",
            "  X_test=torch.tensor(X_test).to(torch.float32)\n",
            "<ipython-input-25-c0710340f2f7>:51: UserWarning: To copy construct from a tensor, it is recommended to use sourceTensor.clone().detach() or sourceTensor.clone().detach().requires_grad_(True), rather than torch.tensor(sourceTensor).\n",
            "  y_test=torch.tensor(y_test)\n"
          ]
        },
        {
          "output_type": "stream",
          "name": "stdout",
          "text": [
            " \n",
            " early stop reached \n",
            "\n",
            "\n",
            " continuing after early stopping\n",
            "\n",
            "\n",
            " after training test accuracy is 0.7222222222222222\n",
            "\n",
            " this is 8 th fold training \n",
            "\n"
          ]
        },
        {
          "output_type": "stream",
          "name": "stderr",
          "text": [
            "<ipython-input-25-c0710340f2f7>:50: UserWarning: To copy construct from a tensor, it is recommended to use sourceTensor.clone().detach() or sourceTensor.clone().detach().requires_grad_(True), rather than torch.tensor(sourceTensor).\n",
            "  X_test=torch.tensor(X_test).to(torch.float32)\n",
            "<ipython-input-25-c0710340f2f7>:51: UserWarning: To copy construct from a tensor, it is recommended to use sourceTensor.clone().detach() or sourceTensor.clone().detach().requires_grad_(True), rather than torch.tensor(sourceTensor).\n",
            "  y_test=torch.tensor(y_test)\n"
          ]
        },
        {
          "output_type": "stream",
          "name": "stdout",
          "text": [
            " \n",
            " early stop reached \n",
            "\n",
            "\n",
            " continuing after early stopping\n",
            "\n",
            "\n",
            " after training test accuracy is 0.6875\n",
            "\n",
            " this is 9 th fold training \n",
            "\n"
          ]
        },
        {
          "output_type": "stream",
          "name": "stderr",
          "text": [
            "<ipython-input-25-c0710340f2f7>:50: UserWarning: To copy construct from a tensor, it is recommended to use sourceTensor.clone().detach() or sourceTensor.clone().detach().requires_grad_(True), rather than torch.tensor(sourceTensor).\n",
            "  X_test=torch.tensor(X_test).to(torch.float32)\n",
            "<ipython-input-25-c0710340f2f7>:51: UserWarning: To copy construct from a tensor, it is recommended to use sourceTensor.clone().detach() or sourceTensor.clone().detach().requires_grad_(True), rather than torch.tensor(sourceTensor).\n",
            "  y_test=torch.tensor(y_test)\n"
          ]
        },
        {
          "output_type": "stream",
          "name": "stdout",
          "text": [
            " \n",
            " early stop reached \n",
            "\n",
            "\n",
            " continuing after early stopping\n",
            "\n",
            "\n",
            " after training test accuracy is 0.6944444444444444\n",
            "\n",
            " this is 10 th fold training \n",
            "\n"
          ]
        },
        {
          "output_type": "stream",
          "name": "stderr",
          "text": [
            "<ipython-input-25-c0710340f2f7>:50: UserWarning: To copy construct from a tensor, it is recommended to use sourceTensor.clone().detach() or sourceTensor.clone().detach().requires_grad_(True), rather than torch.tensor(sourceTensor).\n",
            "  X_test=torch.tensor(X_test).to(torch.float32)\n",
            "<ipython-input-25-c0710340f2f7>:51: UserWarning: To copy construct from a tensor, it is recommended to use sourceTensor.clone().detach() or sourceTensor.clone().detach().requires_grad_(True), rather than torch.tensor(sourceTensor).\n",
            "  y_test=torch.tensor(y_test)\n"
          ]
        },
        {
          "output_type": "stream",
          "name": "stdout",
          "text": [
            " \n",
            " early stop reached \n",
            "\n",
            "\n",
            " continuing after early stopping\n",
            "\n",
            "\n",
            " after training test accuracy is 0.6666666666666666\n",
            "accuracy_of_all_subject is [0.8333333333333334, 0.5854166666666666, 0.9420138888888889, 0.7246527777777777, 0.7350694444444444, 0.6836805555555556]\n",
            "\n",
            "\n",
            "\n",
            " j values is 7\n",
            "(288, 22, 1000)\n",
            "\n",
            " this is 1 th fold training \n",
            "\n",
            " \n",
            " early stop reached \n",
            "\n",
            "\n",
            " continuing after early stopping\n",
            "\n",
            "\n",
            " after training test accuracy is 0.8576388888888888\n",
            "\n",
            " this is 2 th fold training \n",
            "\n"
          ]
        },
        {
          "output_type": "stream",
          "name": "stderr",
          "text": [
            "<ipython-input-25-c0710340f2f7>:50: UserWarning: To copy construct from a tensor, it is recommended to use sourceTensor.clone().detach() or sourceTensor.clone().detach().requires_grad_(True), rather than torch.tensor(sourceTensor).\n",
            "  X_test=torch.tensor(X_test).to(torch.float32)\n",
            "<ipython-input-25-c0710340f2f7>:51: UserWarning: To copy construct from a tensor, it is recommended to use sourceTensor.clone().detach() or sourceTensor.clone().detach().requires_grad_(True), rather than torch.tensor(sourceTensor).\n",
            "  y_test=torch.tensor(y_test)\n"
          ]
        },
        {
          "output_type": "stream",
          "name": "stdout",
          "text": [
            " \n",
            " early stop reached \n",
            "\n",
            "\n",
            " continuing after early stopping\n",
            "\n",
            "\n",
            " after training test accuracy is 0.8541666666666666\n",
            "\n",
            " this is 3 th fold training \n",
            "\n"
          ]
        },
        {
          "output_type": "stream",
          "name": "stderr",
          "text": [
            "<ipython-input-25-c0710340f2f7>:50: UserWarning: To copy construct from a tensor, it is recommended to use sourceTensor.clone().detach() or sourceTensor.clone().detach().requires_grad_(True), rather than torch.tensor(sourceTensor).\n",
            "  X_test=torch.tensor(X_test).to(torch.float32)\n",
            "<ipython-input-25-c0710340f2f7>:51: UserWarning: To copy construct from a tensor, it is recommended to use sourceTensor.clone().detach() or sourceTensor.clone().detach().requires_grad_(True), rather than torch.tensor(sourceTensor).\n",
            "  y_test=torch.tensor(y_test)\n"
          ]
        },
        {
          "output_type": "stream",
          "name": "stdout",
          "text": [
            " \n",
            " early stop reached \n",
            "\n",
            "\n",
            " continuing after early stopping\n",
            "\n",
            "\n",
            " after training test accuracy is 0.8368055555555556\n",
            "\n",
            " this is 4 th fold training \n",
            "\n"
          ]
        },
        {
          "output_type": "stream",
          "name": "stderr",
          "text": [
            "<ipython-input-25-c0710340f2f7>:50: UserWarning: To copy construct from a tensor, it is recommended to use sourceTensor.clone().detach() or sourceTensor.clone().detach().requires_grad_(True), rather than torch.tensor(sourceTensor).\n",
            "  X_test=torch.tensor(X_test).to(torch.float32)\n",
            "<ipython-input-25-c0710340f2f7>:51: UserWarning: To copy construct from a tensor, it is recommended to use sourceTensor.clone().detach() or sourceTensor.clone().detach().requires_grad_(True), rather than torch.tensor(sourceTensor).\n",
            "  y_test=torch.tensor(y_test)\n"
          ]
        },
        {
          "output_type": "stream",
          "name": "stdout",
          "text": [
            " \n",
            " early stop reached \n",
            "\n",
            "\n",
            " continuing after early stopping\n",
            "\n",
            "\n",
            " after training test accuracy is 0.8368055555555556\n",
            "\n",
            " this is 5 th fold training \n",
            "\n"
          ]
        },
        {
          "output_type": "stream",
          "name": "stderr",
          "text": [
            "<ipython-input-25-c0710340f2f7>:50: UserWarning: To copy construct from a tensor, it is recommended to use sourceTensor.clone().detach() or sourceTensor.clone().detach().requires_grad_(True), rather than torch.tensor(sourceTensor).\n",
            "  X_test=torch.tensor(X_test).to(torch.float32)\n",
            "<ipython-input-25-c0710340f2f7>:51: UserWarning: To copy construct from a tensor, it is recommended to use sourceTensor.clone().detach() or sourceTensor.clone().detach().requires_grad_(True), rather than torch.tensor(sourceTensor).\n",
            "  y_test=torch.tensor(y_test)\n"
          ]
        },
        {
          "output_type": "stream",
          "name": "stdout",
          "text": [
            " \n",
            " early stop reached \n",
            "\n",
            "\n",
            " continuing after early stopping\n",
            "\n",
            "\n",
            " after training test accuracy is 0.8506944444444444\n",
            "\n",
            " this is 6 th fold training \n",
            "\n"
          ]
        },
        {
          "output_type": "stream",
          "name": "stderr",
          "text": [
            "<ipython-input-25-c0710340f2f7>:50: UserWarning: To copy construct from a tensor, it is recommended to use sourceTensor.clone().detach() or sourceTensor.clone().detach().requires_grad_(True), rather than torch.tensor(sourceTensor).\n",
            "  X_test=torch.tensor(X_test).to(torch.float32)\n",
            "<ipython-input-25-c0710340f2f7>:51: UserWarning: To copy construct from a tensor, it is recommended to use sourceTensor.clone().detach() or sourceTensor.clone().detach().requires_grad_(True), rather than torch.tensor(sourceTensor).\n",
            "  y_test=torch.tensor(y_test)\n"
          ]
        },
        {
          "output_type": "stream",
          "name": "stdout",
          "text": [
            " \n",
            " early stop reached \n",
            "\n",
            "\n",
            " continuing after early stopping\n",
            "\n",
            "\n",
            " after training test accuracy is 0.8645833333333334\n",
            "\n",
            " this is 7 th fold training \n",
            "\n"
          ]
        },
        {
          "output_type": "stream",
          "name": "stderr",
          "text": [
            "<ipython-input-25-c0710340f2f7>:50: UserWarning: To copy construct from a tensor, it is recommended to use sourceTensor.clone().detach() or sourceTensor.clone().detach().requires_grad_(True), rather than torch.tensor(sourceTensor).\n",
            "  X_test=torch.tensor(X_test).to(torch.float32)\n",
            "<ipython-input-25-c0710340f2f7>:51: UserWarning: To copy construct from a tensor, it is recommended to use sourceTensor.clone().detach() or sourceTensor.clone().detach().requires_grad_(True), rather than torch.tensor(sourceTensor).\n",
            "  y_test=torch.tensor(y_test)\n"
          ]
        }
      ]
    },
    {
      "cell_type": "code",
      "source": [
        "np.mean(accuracy_of_all_subjects)"
      ],
      "metadata": {
        "execution": {
          "iopub.status.busy": "2024-10-02T20:15:56.029840Z",
          "iopub.execute_input": "2024-10-02T20:15:56.030292Z",
          "iopub.status.idle": "2024-10-02T20:15:56.036626Z",
          "shell.execute_reply.started": "2024-10-02T20:15:56.030257Z",
          "shell.execute_reply": "2024-10-02T20:15:56.035712Z"
        },
        "trusted": true,
        "id": "rzf2vnI8i_P8",
        "outputId": "9b82d202-7dc1-4871-fb28-0887117e44b9"
      },
      "execution_count": null,
      "outputs": [
        {
          "execution_count": 30,
          "output_type": "execute_result",
          "data": {
            "text/plain": "0.7809027777777778"
          },
          "metadata": {}
        }
      ]
    },
    {
      "cell_type": "code",
      "source": [
        "test_accuracy\n",
        "np.mean(test_accuracy)\n"
      ],
      "metadata": {
        "execution": {
          "iopub.status.busy": "2024-10-02T20:12:32.483675Z",
          "iopub.execute_input": "2024-10-02T20:12:32.484262Z",
          "iopub.status.idle": "2024-10-02T20:12:32.495577Z",
          "shell.execute_reply.started": "2024-10-02T20:12:32.484226Z",
          "shell.execute_reply": "2024-10-02T20:12:32.494752Z"
        },
        "trusted": true,
        "id": "ZqVRfd3zi_P8",
        "outputId": "b6b68242-7d92-467a-ae34-19cfea632678"
      },
      "execution_count": null,
      "outputs": [
        {
          "execution_count": 29,
          "output_type": "execute_result",
          "data": {
            "text/plain": "0.8451388888888888"
          },
          "metadata": {}
        }
      ]
    },
    {
      "cell_type": "code",
      "source": [
        "np.mean(test_accuracy)"
      ],
      "metadata": {
        "execution": {
          "iopub.status.busy": "2024-09-17T22:13:41.845246Z",
          "iopub.execute_input": "2024-09-17T22:13:41.845881Z",
          "iopub.status.idle": "2024-09-17T22:13:41.852088Z",
          "shell.execute_reply.started": "2024-09-17T22:13:41.845844Z",
          "shell.execute_reply": "2024-09-17T22:13:41.851254Z"
        },
        "trusted": true,
        "id": "OhjjccLui_P9",
        "outputId": "8a550e4f-3fb9-4b11-9a58-a55861253928"
      },
      "execution_count": null,
      "outputs": [
        {
          "execution_count": 44,
          "output_type": "execute_result",
          "data": {
            "text/plain": "nan"
          },
          "metadata": {}
        }
      ]
    },
    {
      "cell_type": "code",
      "source": [
        "accuracy_of_all_subjects"
      ],
      "metadata": {
        "execution": {
          "iopub.status.busy": "2024-09-17T22:13:42.742639Z",
          "iopub.execute_input": "2024-09-17T22:13:42.743334Z",
          "iopub.status.idle": "2024-09-17T22:13:42.749819Z",
          "shell.execute_reply.started": "2024-09-17T22:13:42.743292Z",
          "shell.execute_reply": "2024-09-17T22:13:42.748940Z"
        },
        "trusted": true,
        "id": "U_lGJ5Khi_P9",
        "outputId": "135dcc71-3ea9-4d05-b885-9c9593feb447"
      },
      "execution_count": null,
      "outputs": [
        {
          "execution_count": 45,
          "output_type": "execute_result",
          "data": {
            "text/plain": "[0.8055555555555556,\n 0.8229166666666667,\n 0.8310185185185186,\n 0.8324652777777779,\n 0.8284722222222223,\n 0.8258101851851852,\n 0.8253968253968255,\n 0.82421875,\n 0.8248456790123456,\n 0.8253472222222221,\n 0.4583333333333333,\n 0.4930555555555556,\n 0.4953703703703704,\n 0.5130208333333334,\n 0.5263888888888889,\n 0.525462962962963,\n 0.5257936507936508,\n 0.5269097222222223,\n 0.5258487654320988,\n 0.5211805555555556,\n 0.9305555555555556,\n 0.9236111111111112,\n 0.920138888888889,\n 0.9218750000000001,\n 0.925,\n 0.9236111111111112,\n 0.9241071428571429,\n 0.9240451388888888,\n 0.9243827160493827,\n 0.9246527777777779,\n 0.625,\n 0.6684027777777778,\n 0.6956018518518517,\n 0.7074652777777777,\n 0.7145833333333332,\n 0.7152777777777777,\n 0.7227182539682538,\n 0.7183159722222223,\n 0.7183641975308643,\n 0.7156250000000001,\n 0.7083333333333334,\n 0.7065972222222223,\n 0.7210648148148149,\n 0.7291666666666667,\n 0.7305555555555556,\n 0.7390046296296298,\n 0.7435515873015873,\n 0.7421875,\n 0.7407407407407408,\n 0.7385416666666667,\n 0.7118055555555556,\n 0.6927083333333334,\n 0.701388888888889,\n 0.7022569444444445,\n 0.7000000000000001,\n 0.701388888888889,\n 0.6929563492063492,\n 0.6940104166666666,\n 0.691358024691358,\n 0.6947916666666666,\n 0.8472222222222222,\n 0.8559027777777778,\n 0.8599537037037037,\n 0.8498263888888888,\n 0.851388888888889,\n 0.8512731481481483,\n 0.8462301587301588,\n 0.84375,\n 0.8425925925925926,\n 0.8430555555555556,\n 0.8680555555555556,\n 0.8524305555555556,\n 0.8553240740740741,\n 0.8619791666666667,\n 0.861111111111111,\n 0.8587962962962963,\n 0.857638888888889,\n 0.8585069444444444,\n 0.8587962962962963,\n 0.8579861111111111]"
          },
          "metadata": {}
        }
      ]
    },
    {
      "cell_type": "code",
      "source": [
        "a=torch.ones(2,2)"
      ],
      "metadata": {
        "execution": {
          "iopub.status.busy": "2024-09-16T23:43:47.593103Z",
          "iopub.status.idle": "2024-09-16T23:43:47.593475Z",
          "shell.execute_reply.started": "2024-09-16T23:43:47.593297Z",
          "shell.execute_reply": "2024-09-16T23:43:47.593315Z"
        },
        "trusted": true,
        "id": "ebiyyCQXi_P9"
      },
      "execution_count": null,
      "outputs": []
    },
    {
      "cell_type": "code",
      "source": [
        "torch.mean(a,dim=0)"
      ],
      "metadata": {
        "execution": {
          "iopub.status.busy": "2024-09-16T23:43:47.594977Z",
          "iopub.status.idle": "2024-09-16T23:43:47.595350Z",
          "shell.execute_reply.started": "2024-09-16T23:43:47.595172Z",
          "shell.execute_reply": "2024-09-16T23:43:47.595192Z"
        },
        "trusted": true,
        "id": "Q_YCa7Kui_P9"
      },
      "execution_count": null,
      "outputs": []
    },
    {
      "cell_type": "code",
      "source": [
        "test_results[\"test_confustion_matrix\"]"
      ],
      "metadata": {
        "execution": {
          "iopub.status.busy": "2024-09-16T23:43:47.596553Z",
          "iopub.status.idle": "2024-09-16T23:43:47.596943Z",
          "shell.execute_reply.started": "2024-09-16T23:43:47.596731Z",
          "shell.execute_reply": "2024-09-16T23:43:47.596750Z"
        },
        "trusted": true,
        "id": "D_Tsinmdi_P9"
      },
      "execution_count": null,
      "outputs": []
    },
    {
      "cell_type": "code",
      "source": [
        "check_matrix=torch.tensor([])"
      ],
      "metadata": {
        "execution": {
          "iopub.status.busy": "2024-09-16T23:43:47.598183Z",
          "iopub.status.idle": "2024-09-16T23:43:47.598588Z",
          "shell.execute_reply.started": "2024-09-16T23:43:47.598382Z",
          "shell.execute_reply": "2024-09-16T23:43:47.598402Z"
        },
        "trusted": true,
        "id": "4Uk2CqSNi_P-"
      },
      "execution_count": null,
      "outputs": []
    },
    {
      "cell_type": "code",
      "source": [],
      "metadata": {
        "id": "rUsleoHhi_P-"
      },
      "execution_count": null,
      "outputs": []
    },
    {
      "cell_type": "code",
      "source": [
        "check_matrix=torch.cat((check_matrix,torch.randn(4,4).unsqueeze(0)),dim=0)"
      ],
      "metadata": {
        "execution": {
          "iopub.status.busy": "2024-09-16T23:43:47.600210Z",
          "iopub.status.idle": "2024-09-16T23:43:47.600578Z",
          "shell.execute_reply.started": "2024-09-16T23:43:47.600391Z",
          "shell.execute_reply": "2024-09-16T23:43:47.600409Z"
        },
        "trusted": true,
        "id": "oxqaMhqpi_QF"
      },
      "execution_count": null,
      "outputs": []
    },
    {
      "cell_type": "code",
      "source": [
        "check_matrix"
      ],
      "metadata": {
        "execution": {
          "iopub.status.busy": "2024-09-16T23:43:47.602168Z",
          "iopub.status.idle": "2024-09-16T23:43:47.602530Z",
          "shell.execute_reply.started": "2024-09-16T23:43:47.602348Z",
          "shell.execute_reply": "2024-09-16T23:43:47.602366Z"
        },
        "trusted": true,
        "id": "ott0nHs-i_QF"
      },
      "execution_count": null,
      "outputs": []
    },
    {
      "cell_type": "code",
      "source": [
        "a_layer=nn.Conv2d(1,9,kernel_size=(1,125),padding='same')\n"
      ],
      "metadata": {
        "execution": {
          "iopub.status.busy": "2024-09-16T23:43:47.603998Z",
          "iopub.status.idle": "2024-09-16T23:43:47.604350Z",
          "shell.execute_reply.started": "2024-09-16T23:43:47.604178Z",
          "shell.execute_reply": "2024-09-16T23:43:47.604196Z"
        },
        "trusted": true,
        "id": "diLVLtHAi_QG"
      },
      "execution_count": null,
      "outputs": []
    },
    {
      "cell_type": "code",
      "source": [
        "x_check=torch.randn(288,1,22,1000)"
      ],
      "metadata": {
        "execution": {
          "iopub.status.busy": "2024-09-16T23:43:47.606246Z",
          "iopub.status.idle": "2024-09-16T23:43:47.606685Z",
          "shell.execute_reply.started": "2024-09-16T23:43:47.606457Z",
          "shell.execute_reply": "2024-09-16T23:43:47.606479Z"
        },
        "trusted": true,
        "id": "HmE-LRO3i_QG"
      },
      "execution_count": null,
      "outputs": []
    },
    {
      "cell_type": "code",
      "source": [
        "a_layer(x_check).shape\n"
      ],
      "metadata": {
        "execution": {
          "iopub.status.busy": "2024-09-16T23:43:47.609059Z",
          "iopub.status.idle": "2024-09-16T23:43:47.609426Z",
          "shell.execute_reply.started": "2024-09-16T23:43:47.609250Z",
          "shell.execute_reply": "2024-09-16T23:43:47.609269Z"
        },
        "trusted": true,
        "id": "sYfvluUii_QG"
      },
      "execution_count": null,
      "outputs": []
    },
    {
      "cell_type": "code",
      "source": [],
      "metadata": {
        "id": "EMBfn8fIi_QG"
      },
      "execution_count": null,
      "outputs": []
    },
    {
      "cell_type": "code",
      "source": [],
      "metadata": {
        "id": "xV3RhdDRi_QG"
      },
      "execution_count": null,
      "outputs": []
    },
    {
      "cell_type": "code",
      "source": [],
      "metadata": {
        "id": "I08uILNKi_QH"
      },
      "execution_count": null,
      "outputs": []
    },
    {
      "cell_type": "code",
      "source": [],
      "metadata": {
        "id": "5IPF8ZqPi_QH"
      },
      "execution_count": null,
      "outputs": []
    },
    {
      "cell_type": "code",
      "source": [],
      "metadata": {
        "id": "u1KWSrZ7i_QH"
      },
      "execution_count": null,
      "outputs": []
    },
    {
      "cell_type": "code",
      "source": [],
      "metadata": {
        "id": "K0H_aVqmi_QH"
      },
      "execution_count": null,
      "outputs": []
    },
    {
      "cell_type": "code",
      "source": [],
      "metadata": {
        "id": "q2JCfD7Ji_QI"
      },
      "execution_count": null,
      "outputs": []
    },
    {
      "cell_type": "code",
      "source": [],
      "metadata": {
        "id": "wR3fiPHBi_QI"
      },
      "execution_count": null,
      "outputs": []
    },
    {
      "cell_type": "code",
      "source": [],
      "metadata": {
        "id": "eRN_3ABWi_QI"
      },
      "execution_count": null,
      "outputs": []
    },
    {
      "cell_type": "code",
      "source": [],
      "metadata": {
        "id": "V1TYqGz4i_QI"
      },
      "execution_count": null,
      "outputs": []
    },
    {
      "cell_type": "code",
      "source": [],
      "metadata": {
        "id": "lrqs2Uvxi_QI"
      },
      "execution_count": null,
      "outputs": []
    },
    {
      "cell_type": "code",
      "source": [],
      "metadata": {
        "id": "zbws1a3yi_QJ"
      },
      "execution_count": null,
      "outputs": []
    },
    {
      "cell_type": "code",
      "source": [],
      "metadata": {
        "id": "mBpvPpjpi_QJ"
      },
      "execution_count": null,
      "outputs": []
    },
    {
      "cell_type": "code",
      "source": [],
      "metadata": {
        "id": "5x6Z8JDYi_QJ"
      },
      "execution_count": null,
      "outputs": []
    },
    {
      "cell_type": "code",
      "source": [],
      "metadata": {
        "id": "tBlK6cVEi_QJ"
      },
      "execution_count": null,
      "outputs": []
    },
    {
      "cell_type": "code",
      "source": [],
      "metadata": {
        "id": "wJjlmvtMi_QK"
      },
      "execution_count": null,
      "outputs": []
    },
    {
      "cell_type": "code",
      "source": [],
      "metadata": {
        "id": "SSzaNIpfi_QK"
      },
      "execution_count": null,
      "outputs": []
    },
    {
      "cell_type": "code",
      "source": [],
      "metadata": {
        "id": "RftndkWOi_QK"
      },
      "execution_count": null,
      "outputs": []
    },
    {
      "cell_type": "code",
      "source": [],
      "metadata": {
        "id": "96WqiwHNi_QK"
      },
      "execution_count": null,
      "outputs": []
    },
    {
      "cell_type": "code",
      "source": [],
      "metadata": {
        "id": "DUomfa4Ii_QK"
      },
      "execution_count": null,
      "outputs": []
    },
    {
      "cell_type": "code",
      "source": [],
      "metadata": {
        "id": "gX7qc6oPi_QK"
      },
      "execution_count": null,
      "outputs": []
    }
  ]
}